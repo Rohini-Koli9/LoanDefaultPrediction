{
 "cells": [
  {
   "cell_type": "markdown",
   "id": "288a04c7-c25e-4e35-8c38-e4c5900e95a2",
   "metadata": {},
   "source": [
    "# Machine Learning Engineer Nanodegree\n",
    "\n",
    "# Capstone: Predicting Loan Defaults In Peer-To-Peer Lending\n",
    "\n",
    "## I. Getting Started\n",
    "In this project, we will analyze a dataset containing data on potential borrowers. The goal of this project is to build a model predicting the loan default of potential borrowers. \n",
    "\n",
    "The dataset for this project can be found on [Lending Club](https://www.lendingclub.com/info/download-data.action).\n",
    "\n",
    "Run the code block below to load the wholesale customers dataset, along with a few of the necessary Python libraries required for this project. You will know the dataset loaded successfully if the size of the dataset is reported.\n"
   ]
  },
  {
   "cell_type": "code",
   "execution_count": 1,
   "id": "81ed08fb-ec81-41cd-a09e-a0adbbc95266",
   "metadata": {},
   "outputs": [
    {
     "name": "stdout",
     "output_type": "stream",
     "text": [
      "The loan dataset has 42538 samples with 111 features.\n"
     ]
    }
   ],
   "source": [
    "# Import libraries necessary for this project\n",
    "import numpy as np\n",
    "import pandas as pd\n",
    "import matplotlib.pyplot as plt\n",
    "from IPython.display import display # Allows the use of display() for DataFrames\n",
    "\n",
    "# Pretty display for notebooks\n",
    "%matplotlib inline\n",
    "plt.style.use('fivethirtyeight')\n",
    "\n",
    "# Load the accepted loan dataset \n",
    "# low_memory and skiprows in read_csv because the file is large and it leads to the Lending Club website\n",
    "try:\n",
    "    loan_data = pd.read_csv(\"LoanStats3a.csv\", low_memory = False, skiprows = 1)\n",
    "    print(\"The loan dataset has {} samples with {} features.\".format(*loan_data.shape))\n",
    "except:\n",
    "    print(\"The loan dataset could not be loaded. Is the dataset missing?\")"
   ]
  },
  {
   "cell_type": "markdown",
   "id": "516bd174-234f-4e76-885a-c4cbf3a0240a",
   "metadata": {},
   "source": [
    "## Introduction To The Data\n",
    "\n",
    "The dictionary data file is provided with the project in order to refer to it later in our data exploration. This contains information about the various columns and will be useful when we clean up the dataset. The data being used is the data from 2007 to 2011 mostly because when can be almost certain that all the loans have been either repaid or defaulted upon. Let's dive in."
   ]
  },
  {
   "cell_type": "code",
   "execution_count": 2,
   "id": "9ba6ccea-aa20-432a-8c8a-6cb247909c10",
   "metadata": {},
   "outputs": [
    {
     "data": {
      "text/html": [
       "<div>\n",
       "<style scoped>\n",
       "    .dataframe tbody tr th:only-of-type {\n",
       "        vertical-align: middle;\n",
       "    }\n",
       "\n",
       "    .dataframe tbody tr th {\n",
       "        vertical-align: top;\n",
       "    }\n",
       "\n",
       "    .dataframe thead th {\n",
       "        text-align: right;\n",
       "    }\n",
       "</style>\n",
       "<table border=\"1\" class=\"dataframe\">\n",
       "  <thead>\n",
       "    <tr style=\"text-align: right;\">\n",
       "      <th></th>\n",
       "      <th>id</th>\n",
       "      <th>member_id</th>\n",
       "      <th>loan_amnt</th>\n",
       "      <th>funded_amnt</th>\n",
       "      <th>funded_amnt_inv</th>\n",
       "      <th>term</th>\n",
       "      <th>int_rate</th>\n",
       "      <th>installment</th>\n",
       "      <th>grade</th>\n",
       "      <th>sub_grade</th>\n",
       "      <th>...</th>\n",
       "      <th>num_tl_90g_dpd_24m</th>\n",
       "      <th>num_tl_op_past_12m</th>\n",
       "      <th>pct_tl_nvr_dlq</th>\n",
       "      <th>percent_bc_gt_75</th>\n",
       "      <th>pub_rec_bankruptcies</th>\n",
       "      <th>tax_liens</th>\n",
       "      <th>tot_hi_cred_lim</th>\n",
       "      <th>total_bal_ex_mort</th>\n",
       "      <th>total_bc_limit</th>\n",
       "      <th>total_il_high_credit_limit</th>\n",
       "    </tr>\n",
       "  </thead>\n",
       "  <tbody>\n",
       "    <tr>\n",
       "      <th>0</th>\n",
       "      <td>1077501</td>\n",
       "      <td>1296599.0</td>\n",
       "      <td>5000.0</td>\n",
       "      <td>5000.0</td>\n",
       "      <td>4975.0</td>\n",
       "      <td>36 months</td>\n",
       "      <td>10.65%</td>\n",
       "      <td>162.87</td>\n",
       "      <td>B</td>\n",
       "      <td>B2</td>\n",
       "      <td>...</td>\n",
       "      <td>NaN</td>\n",
       "      <td>NaN</td>\n",
       "      <td>NaN</td>\n",
       "      <td>NaN</td>\n",
       "      <td>0.0</td>\n",
       "      <td>0.0</td>\n",
       "      <td>NaN</td>\n",
       "      <td>NaN</td>\n",
       "      <td>NaN</td>\n",
       "      <td>NaN</td>\n",
       "    </tr>\n",
       "    <tr>\n",
       "      <th>1</th>\n",
       "      <td>1077430</td>\n",
       "      <td>1314167.0</td>\n",
       "      <td>2500.0</td>\n",
       "      <td>2500.0</td>\n",
       "      <td>2500.0</td>\n",
       "      <td>60 months</td>\n",
       "      <td>15.27%</td>\n",
       "      <td>59.83</td>\n",
       "      <td>C</td>\n",
       "      <td>C4</td>\n",
       "      <td>...</td>\n",
       "      <td>NaN</td>\n",
       "      <td>NaN</td>\n",
       "      <td>NaN</td>\n",
       "      <td>NaN</td>\n",
       "      <td>0.0</td>\n",
       "      <td>0.0</td>\n",
       "      <td>NaN</td>\n",
       "      <td>NaN</td>\n",
       "      <td>NaN</td>\n",
       "      <td>NaN</td>\n",
       "    </tr>\n",
       "    <tr>\n",
       "      <th>2</th>\n",
       "      <td>1077175</td>\n",
       "      <td>1313524.0</td>\n",
       "      <td>2400.0</td>\n",
       "      <td>2400.0</td>\n",
       "      <td>2400.0</td>\n",
       "      <td>36 months</td>\n",
       "      <td>15.96%</td>\n",
       "      <td>84.33</td>\n",
       "      <td>C</td>\n",
       "      <td>C5</td>\n",
       "      <td>...</td>\n",
       "      <td>NaN</td>\n",
       "      <td>NaN</td>\n",
       "      <td>NaN</td>\n",
       "      <td>NaN</td>\n",
       "      <td>0.0</td>\n",
       "      <td>0.0</td>\n",
       "      <td>NaN</td>\n",
       "      <td>NaN</td>\n",
       "      <td>NaN</td>\n",
       "      <td>NaN</td>\n",
       "    </tr>\n",
       "    <tr>\n",
       "      <th>3</th>\n",
       "      <td>1076863</td>\n",
       "      <td>1277178.0</td>\n",
       "      <td>10000.0</td>\n",
       "      <td>10000.0</td>\n",
       "      <td>10000.0</td>\n",
       "      <td>36 months</td>\n",
       "      <td>13.49%</td>\n",
       "      <td>339.31</td>\n",
       "      <td>C</td>\n",
       "      <td>C1</td>\n",
       "      <td>...</td>\n",
       "      <td>NaN</td>\n",
       "      <td>NaN</td>\n",
       "      <td>NaN</td>\n",
       "      <td>NaN</td>\n",
       "      <td>0.0</td>\n",
       "      <td>0.0</td>\n",
       "      <td>NaN</td>\n",
       "      <td>NaN</td>\n",
       "      <td>NaN</td>\n",
       "      <td>NaN</td>\n",
       "    </tr>\n",
       "    <tr>\n",
       "      <th>4</th>\n",
       "      <td>1075358</td>\n",
       "      <td>1311748.0</td>\n",
       "      <td>3000.0</td>\n",
       "      <td>3000.0</td>\n",
       "      <td>3000.0</td>\n",
       "      <td>60 months</td>\n",
       "      <td>12.69%</td>\n",
       "      <td>67.79</td>\n",
       "      <td>B</td>\n",
       "      <td>B5</td>\n",
       "      <td>...</td>\n",
       "      <td>NaN</td>\n",
       "      <td>NaN</td>\n",
       "      <td>NaN</td>\n",
       "      <td>NaN</td>\n",
       "      <td>0.0</td>\n",
       "      <td>0.0</td>\n",
       "      <td>NaN</td>\n",
       "      <td>NaN</td>\n",
       "      <td>NaN</td>\n",
       "      <td>NaN</td>\n",
       "    </tr>\n",
       "  </tbody>\n",
       "</table>\n",
       "<p>5 rows × 111 columns</p>\n",
       "</div>"
      ],
      "text/plain": [
       "        id  member_id  loan_amnt  funded_amnt  funded_amnt_inv        term  \\\n",
       "0  1077501  1296599.0     5000.0       5000.0           4975.0   36 months   \n",
       "1  1077430  1314167.0     2500.0       2500.0           2500.0   60 months   \n",
       "2  1077175  1313524.0     2400.0       2400.0           2400.0   36 months   \n",
       "3  1076863  1277178.0    10000.0      10000.0          10000.0   36 months   \n",
       "4  1075358  1311748.0     3000.0       3000.0           3000.0   60 months   \n",
       "\n",
       "  int_rate  installment grade sub_grade  ... num_tl_90g_dpd_24m  \\\n",
       "0   10.65%       162.87     B        B2  ...                NaN   \n",
       "1   15.27%        59.83     C        C4  ...                NaN   \n",
       "2   15.96%        84.33     C        C5  ...                NaN   \n",
       "3   13.49%       339.31     C        C1  ...                NaN   \n",
       "4   12.69%        67.79     B        B5  ...                NaN   \n",
       "\n",
       "  num_tl_op_past_12m pct_tl_nvr_dlq  percent_bc_gt_75 pub_rec_bankruptcies  \\\n",
       "0                NaN            NaN               NaN                  0.0   \n",
       "1                NaN            NaN               NaN                  0.0   \n",
       "2                NaN            NaN               NaN                  0.0   \n",
       "3                NaN            NaN               NaN                  0.0   \n",
       "4                NaN            NaN               NaN                  0.0   \n",
       "\n",
       "  tax_liens tot_hi_cred_lim total_bal_ex_mort total_bc_limit  \\\n",
       "0       0.0             NaN               NaN            NaN   \n",
       "1       0.0             NaN               NaN            NaN   \n",
       "2       0.0             NaN               NaN            NaN   \n",
       "3       0.0             NaN               NaN            NaN   \n",
       "4       0.0             NaN               NaN            NaN   \n",
       "\n",
       "  total_il_high_credit_limit  \n",
       "0                        NaN  \n",
       "1                        NaN  \n",
       "2                        NaN  \n",
       "3                        NaN  \n",
       "4                        NaN  \n",
       "\n",
       "[5 rows x 111 columns]"
      ]
     },
     "execution_count": 2,
     "metadata": {},
     "output_type": "execute_result"
    }
   ],
   "source": [
    "loan_data.head()"
   ]
  },
  {
   "cell_type": "code",
   "execution_count": 3,
   "id": "f8c859bc-5547-40fe-8336-19180f0c64b6",
   "metadata": {},
   "outputs": [
    {
     "data": {
      "text/plain": [
       "id                              1077501\n",
       "member_id                     1296599.0\n",
       "loan_amnt                        5000.0\n",
       "funded_amnt                      5000.0\n",
       "funded_amnt_inv                  4975.0\n",
       "                                ...    \n",
       "tax_liens                           0.0\n",
       "tot_hi_cred_lim                     NaN\n",
       "total_bal_ex_mort                   NaN\n",
       "total_bc_limit                      NaN\n",
       "total_il_high_credit_limit          NaN\n",
       "Name: 0, Length: 111, dtype: object"
      ]
     },
     "execution_count": 3,
     "metadata": {},
     "output_type": "execute_result"
    }
   ],
   "source": [
    "loan_data.iloc[0]"
   ]
  },
  {
   "cell_type": "markdown",
   "id": "7a57ebf3-3c7b-4234-ad92-460d7df89bbd",
   "metadata": {},
   "source": [
    "As we can see, the number of columns will be something to work on. We will remove the *`desc`* and *`url`* columns mostly because it leads to or describes information that is not necessary for our analysis.  "
   ]
  },
  {
   "cell_type": "code",
   "execution_count": 4,
   "id": "6dfc8dd8-0671-4c28-af7d-d6ed449fa5ce",
   "metadata": {},
   "outputs": [],
   "source": [
    "loan_data = loan_data.drop(['desc', 'url'],axis=1)"
   ]
  },
  {
   "cell_type": "code",
   "execution_count": 5,
   "id": "238d5d57-8699-4159-8f63-cd45fd87b94d",
   "metadata": {},
   "outputs": [
    {
     "data": {
      "text/html": [
       "<div>\n",
       "<style scoped>\n",
       "    .dataframe tbody tr th:only-of-type {\n",
       "        vertical-align: middle;\n",
       "    }\n",
       "\n",
       "    .dataframe tbody tr th {\n",
       "        vertical-align: top;\n",
       "    }\n",
       "\n",
       "    .dataframe thead th {\n",
       "        text-align: right;\n",
       "    }\n",
       "</style>\n",
       "<table border=\"1\" class=\"dataframe\">\n",
       "  <thead>\n",
       "    <tr style=\"text-align: right;\">\n",
       "      <th></th>\n",
       "      <th>member_id</th>\n",
       "      <th>loan_amnt</th>\n",
       "      <th>funded_amnt</th>\n",
       "      <th>funded_amnt_inv</th>\n",
       "      <th>installment</th>\n",
       "      <th>annual_inc</th>\n",
       "      <th>dti</th>\n",
       "      <th>delinq_2yrs</th>\n",
       "      <th>inq_last_6mths</th>\n",
       "      <th>mths_since_last_delinq</th>\n",
       "      <th>...</th>\n",
       "      <th>num_tl_90g_dpd_24m</th>\n",
       "      <th>num_tl_op_past_12m</th>\n",
       "      <th>pct_tl_nvr_dlq</th>\n",
       "      <th>percent_bc_gt_75</th>\n",
       "      <th>pub_rec_bankruptcies</th>\n",
       "      <th>tax_liens</th>\n",
       "      <th>tot_hi_cred_lim</th>\n",
       "      <th>total_bal_ex_mort</th>\n",
       "      <th>total_bc_limit</th>\n",
       "      <th>total_il_high_credit_limit</th>\n",
       "    </tr>\n",
       "  </thead>\n",
       "  <tbody>\n",
       "    <tr>\n",
       "      <th>count</th>\n",
       "      <td>4.253500e+04</td>\n",
       "      <td>42535.000000</td>\n",
       "      <td>42535.000000</td>\n",
       "      <td>42535.000000</td>\n",
       "      <td>42535.000000</td>\n",
       "      <td>4.253100e+04</td>\n",
       "      <td>42535.000000</td>\n",
       "      <td>42506.000000</td>\n",
       "      <td>42506.000000</td>\n",
       "      <td>15609.000000</td>\n",
       "      <td>...</td>\n",
       "      <td>0.0</td>\n",
       "      <td>0.0</td>\n",
       "      <td>0.0</td>\n",
       "      <td>0.0</td>\n",
       "      <td>41170.000000</td>\n",
       "      <td>42430.000000</td>\n",
       "      <td>0.0</td>\n",
       "      <td>0.0</td>\n",
       "      <td>0.0</td>\n",
       "      <td>0.0</td>\n",
       "    </tr>\n",
       "    <tr>\n",
       "      <th>mean</th>\n",
       "      <td>8.257026e+05</td>\n",
       "      <td>11089.722581</td>\n",
       "      <td>10821.585753</td>\n",
       "      <td>10139.830603</td>\n",
       "      <td>322.623063</td>\n",
       "      <td>6.913656e+04</td>\n",
       "      <td>13.373043</td>\n",
       "      <td>0.152449</td>\n",
       "      <td>1.081424</td>\n",
       "      <td>35.017618</td>\n",
       "      <td>...</td>\n",
       "      <td>NaN</td>\n",
       "      <td>NaN</td>\n",
       "      <td>NaN</td>\n",
       "      <td>NaN</td>\n",
       "      <td>0.045227</td>\n",
       "      <td>0.000024</td>\n",
       "      <td>NaN</td>\n",
       "      <td>NaN</td>\n",
       "      <td>NaN</td>\n",
       "      <td>NaN</td>\n",
       "    </tr>\n",
       "    <tr>\n",
       "      <th>std</th>\n",
       "      <td>2.795409e+05</td>\n",
       "      <td>7410.938391</td>\n",
       "      <td>7146.914675</td>\n",
       "      <td>7131.686447</td>\n",
       "      <td>208.927216</td>\n",
       "      <td>6.409635e+04</td>\n",
       "      <td>6.726315</td>\n",
       "      <td>0.512406</td>\n",
       "      <td>1.527455</td>\n",
       "      <td>22.418427</td>\n",
       "      <td>...</td>\n",
       "      <td>NaN</td>\n",
       "      <td>NaN</td>\n",
       "      <td>NaN</td>\n",
       "      <td>NaN</td>\n",
       "      <td>0.208737</td>\n",
       "      <td>0.004855</td>\n",
       "      <td>NaN</td>\n",
       "      <td>NaN</td>\n",
       "      <td>NaN</td>\n",
       "      <td>NaN</td>\n",
       "    </tr>\n",
       "    <tr>\n",
       "      <th>min</th>\n",
       "      <td>7.047300e+04</td>\n",
       "      <td>500.000000</td>\n",
       "      <td>500.000000</td>\n",
       "      <td>0.000000</td>\n",
       "      <td>15.670000</td>\n",
       "      <td>1.896000e+03</td>\n",
       "      <td>0.000000</td>\n",
       "      <td>0.000000</td>\n",
       "      <td>0.000000</td>\n",
       "      <td>0.000000</td>\n",
       "      <td>...</td>\n",
       "      <td>NaN</td>\n",
       "      <td>NaN</td>\n",
       "      <td>NaN</td>\n",
       "      <td>NaN</td>\n",
       "      <td>0.000000</td>\n",
       "      <td>0.000000</td>\n",
       "      <td>NaN</td>\n",
       "      <td>NaN</td>\n",
       "      <td>NaN</td>\n",
       "      <td>NaN</td>\n",
       "    </tr>\n",
       "    <tr>\n",
       "      <th>25%</th>\n",
       "      <td>6.384795e+05</td>\n",
       "      <td>5200.000000</td>\n",
       "      <td>5000.000000</td>\n",
       "      <td>4950.000000</td>\n",
       "      <td>165.520000</td>\n",
       "      <td>4.000000e+04</td>\n",
       "      <td>8.200000</td>\n",
       "      <td>0.000000</td>\n",
       "      <td>0.000000</td>\n",
       "      <td>17.000000</td>\n",
       "      <td>...</td>\n",
       "      <td>NaN</td>\n",
       "      <td>NaN</td>\n",
       "      <td>NaN</td>\n",
       "      <td>NaN</td>\n",
       "      <td>0.000000</td>\n",
       "      <td>0.000000</td>\n",
       "      <td>NaN</td>\n",
       "      <td>NaN</td>\n",
       "      <td>NaN</td>\n",
       "      <td>NaN</td>\n",
       "    </tr>\n",
       "    <tr>\n",
       "      <th>50%</th>\n",
       "      <td>8.241780e+05</td>\n",
       "      <td>9700.000000</td>\n",
       "      <td>9600.000000</td>\n",
       "      <td>8500.000000</td>\n",
       "      <td>277.690000</td>\n",
       "      <td>5.900000e+04</td>\n",
       "      <td>13.470000</td>\n",
       "      <td>0.000000</td>\n",
       "      <td>1.000000</td>\n",
       "      <td>33.000000</td>\n",
       "      <td>...</td>\n",
       "      <td>NaN</td>\n",
       "      <td>NaN</td>\n",
       "      <td>NaN</td>\n",
       "      <td>NaN</td>\n",
       "      <td>0.000000</td>\n",
       "      <td>0.000000</td>\n",
       "      <td>NaN</td>\n",
       "      <td>NaN</td>\n",
       "      <td>NaN</td>\n",
       "      <td>NaN</td>\n",
       "    </tr>\n",
       "    <tr>\n",
       "      <th>75%</th>\n",
       "      <td>1.033946e+06</td>\n",
       "      <td>15000.000000</td>\n",
       "      <td>15000.000000</td>\n",
       "      <td>14000.000000</td>\n",
       "      <td>428.180000</td>\n",
       "      <td>8.250000e+04</td>\n",
       "      <td>18.680000</td>\n",
       "      <td>0.000000</td>\n",
       "      <td>2.000000</td>\n",
       "      <td>51.000000</td>\n",
       "      <td>...</td>\n",
       "      <td>NaN</td>\n",
       "      <td>NaN</td>\n",
       "      <td>NaN</td>\n",
       "      <td>NaN</td>\n",
       "      <td>0.000000</td>\n",
       "      <td>0.000000</td>\n",
       "      <td>NaN</td>\n",
       "      <td>NaN</td>\n",
       "      <td>NaN</td>\n",
       "      <td>NaN</td>\n",
       "    </tr>\n",
       "    <tr>\n",
       "      <th>max</th>\n",
       "      <td>1.314167e+06</td>\n",
       "      <td>35000.000000</td>\n",
       "      <td>35000.000000</td>\n",
       "      <td>35000.000000</td>\n",
       "      <td>1305.190000</td>\n",
       "      <td>6.000000e+06</td>\n",
       "      <td>29.990000</td>\n",
       "      <td>13.000000</td>\n",
       "      <td>33.000000</td>\n",
       "      <td>120.000000</td>\n",
       "      <td>...</td>\n",
       "      <td>NaN</td>\n",
       "      <td>NaN</td>\n",
       "      <td>NaN</td>\n",
       "      <td>NaN</td>\n",
       "      <td>2.000000</td>\n",
       "      <td>1.000000</td>\n",
       "      <td>NaN</td>\n",
       "      <td>NaN</td>\n",
       "      <td>NaN</td>\n",
       "      <td>NaN</td>\n",
       "    </tr>\n",
       "  </tbody>\n",
       "</table>\n",
       "<p>8 rows × 86 columns</p>\n",
       "</div>"
      ],
      "text/plain": [
       "          member_id     loan_amnt   funded_amnt  funded_amnt_inv  \\\n",
       "count  4.253500e+04  42535.000000  42535.000000     42535.000000   \n",
       "mean   8.257026e+05  11089.722581  10821.585753     10139.830603   \n",
       "std    2.795409e+05   7410.938391   7146.914675      7131.686447   \n",
       "min    7.047300e+04    500.000000    500.000000         0.000000   \n",
       "25%    6.384795e+05   5200.000000   5000.000000      4950.000000   \n",
       "50%    8.241780e+05   9700.000000   9600.000000      8500.000000   \n",
       "75%    1.033946e+06  15000.000000  15000.000000     14000.000000   \n",
       "max    1.314167e+06  35000.000000  35000.000000     35000.000000   \n",
       "\n",
       "        installment    annual_inc           dti   delinq_2yrs  inq_last_6mths  \\\n",
       "count  42535.000000  4.253100e+04  42535.000000  42506.000000    42506.000000   \n",
       "mean     322.623063  6.913656e+04     13.373043      0.152449        1.081424   \n",
       "std      208.927216  6.409635e+04      6.726315      0.512406        1.527455   \n",
       "min       15.670000  1.896000e+03      0.000000      0.000000        0.000000   \n",
       "25%      165.520000  4.000000e+04      8.200000      0.000000        0.000000   \n",
       "50%      277.690000  5.900000e+04     13.470000      0.000000        1.000000   \n",
       "75%      428.180000  8.250000e+04     18.680000      0.000000        2.000000   \n",
       "max     1305.190000  6.000000e+06     29.990000     13.000000       33.000000   \n",
       "\n",
       "       mths_since_last_delinq  ...  num_tl_90g_dpd_24m  num_tl_op_past_12m  \\\n",
       "count            15609.000000  ...                 0.0                 0.0   \n",
       "mean                35.017618  ...                 NaN                 NaN   \n",
       "std                 22.418427  ...                 NaN                 NaN   \n",
       "min                  0.000000  ...                 NaN                 NaN   \n",
       "25%                 17.000000  ...                 NaN                 NaN   \n",
       "50%                 33.000000  ...                 NaN                 NaN   \n",
       "75%                 51.000000  ...                 NaN                 NaN   \n",
       "max                120.000000  ...                 NaN                 NaN   \n",
       "\n",
       "       pct_tl_nvr_dlq  percent_bc_gt_75  pub_rec_bankruptcies     tax_liens  \\\n",
       "count             0.0               0.0          41170.000000  42430.000000   \n",
       "mean              NaN               NaN              0.045227      0.000024   \n",
       "std               NaN               NaN              0.208737      0.004855   \n",
       "min               NaN               NaN              0.000000      0.000000   \n",
       "25%               NaN               NaN              0.000000      0.000000   \n",
       "50%               NaN               NaN              0.000000      0.000000   \n",
       "75%               NaN               NaN              0.000000      0.000000   \n",
       "max               NaN               NaN              2.000000      1.000000   \n",
       "\n",
       "       tot_hi_cred_lim  total_bal_ex_mort  total_bc_limit  \\\n",
       "count              0.0                0.0             0.0   \n",
       "mean               NaN                NaN             NaN   \n",
       "std                NaN                NaN             NaN   \n",
       "min                NaN                NaN             NaN   \n",
       "25%                NaN                NaN             NaN   \n",
       "50%                NaN                NaN             NaN   \n",
       "75%                NaN                NaN             NaN   \n",
       "max                NaN                NaN             NaN   \n",
       "\n",
       "       total_il_high_credit_limit  \n",
       "count                         0.0  \n",
       "mean                          NaN  \n",
       "std                           NaN  \n",
       "min                           NaN  \n",
       "25%                           NaN  \n",
       "50%                           NaN  \n",
       "75%                           NaN  \n",
       "max                           NaN  \n",
       "\n",
       "[8 rows x 86 columns]"
      ]
     },
     "execution_count": 5,
     "metadata": {},
     "output_type": "execute_result"
    }
   ],
   "source": [
    "loan_data.describe()"
   ]
  },
  {
   "cell_type": "markdown",
   "id": "c598c20d-cb00-40a5-81fa-2852cc3000d0",
   "metadata": {},
   "source": [
    "Another notable thing to remove is to remove columns with more than 50% missing values. It would be time consuming and inefficient to deal with the tremendous amount of missing values from these columns."
   ]
  },
  {
   "cell_type": "code",
   "execution_count": 6,
   "id": "834e0ca8-ece3-4571-88fb-183b0619c794",
   "metadata": {},
   "outputs": [],
   "source": [
    "# count half point of the dataset.\n",
    "half_point = len(loan_data) / 2\n",
    "loan_data = loan_data.dropna(thresh=half_point, axis=1)\n",
    "# we save the new file\n",
    "loan_data.to_csv('loan_data.csv', index=False)"
   ]
  },
  {
   "cell_type": "markdown",
   "id": "2b141a1e-63bc-40b6-8ecc-f5fa8d171dbe",
   "metadata": {},
   "source": [
    "We reload the data in the notebook and take a look at the first row."
   ]
  },
  {
   "cell_type": "code",
   "execution_count": 7,
   "id": "e2a51048-ee49-44bc-9e7e-94c8e98ff2d5",
   "metadata": {},
   "outputs": [
    {
     "data": {
      "text/plain": [
       "id                                1077501\n",
       "member_id                       1296599.0\n",
       "loan_amnt                          5000.0\n",
       "funded_amnt                        5000.0\n",
       "funded_amnt_inv                    4975.0\n",
       "term                            36 months\n",
       "int_rate                           10.65%\n",
       "installment                        162.87\n",
       "grade                                   B\n",
       "sub_grade                              B2\n",
       "emp_title                             NaN\n",
       "emp_length                      10+ years\n",
       "home_ownership                       RENT\n",
       "annual_inc                        24000.0\n",
       "verification_status              Verified\n",
       "issue_d                          Dec-2011\n",
       "loan_status                    Fully Paid\n",
       "pymnt_plan                              n\n",
       "purpose                       credit_card\n",
       "title                            Computer\n",
       "zip_code                            860xx\n",
       "addr_state                             AZ\n",
       "dti                                 27.65\n",
       "delinq_2yrs                           0.0\n",
       "earliest_cr_line                 Jan-1985\n",
       "inq_last_6mths                        1.0\n",
       "open_acc                              3.0\n",
       "pub_rec                               0.0\n",
       "revol_bal                         13648.0\n",
       "revol_util                          83.7%\n",
       "total_acc                             9.0\n",
       "initial_list_status                     f\n",
       "out_prncp                             0.0\n",
       "out_prncp_inv                         0.0\n",
       "total_pymnt                   5863.155187\n",
       "total_pymnt_inv                   5833.84\n",
       "total_rec_prncp                    5000.0\n",
       "total_rec_int                      863.16\n",
       "total_rec_late_fee                    0.0\n",
       "recoveries                            0.0\n",
       "collection_recovery_fee               0.0\n",
       "last_pymnt_d                     Jan-2015\n",
       "last_pymnt_amnt                    171.62\n",
       "last_credit_pull_d               Dec-2016\n",
       "collections_12_mths_ex_med            0.0\n",
       "policy_code                           1.0\n",
       "application_type               INDIVIDUAL\n",
       "acc_now_delinq                        0.0\n",
       "chargeoff_within_12_mths              0.0\n",
       "delinq_amnt                           0.0\n",
       "pub_rec_bankruptcies                  0.0\n",
       "tax_liens                             0.0\n",
       "Name: 0, dtype: object"
      ]
     },
     "execution_count": 7,
     "metadata": {},
     "output_type": "execute_result"
    }
   ],
   "source": [
    "loan_data = pd.read_csv('loan_data.csv', low_memory = False)\n",
    "loan_data.drop_duplicates()\n",
    "\n",
    "loan_data.iloc[0]"
   ]
  },
  {
   "cell_type": "code",
   "execution_count": 8,
   "id": "732e62ca-953a-4829-abf5-97493f1f0244",
   "metadata": {},
   "outputs": [
    {
     "data": {
      "text/plain": [
       "52"
      ]
     },
     "execution_count": 8,
     "metadata": {},
     "output_type": "execute_result"
    }
   ],
   "source": [
    "loan_data.shape[1]"
   ]
  },
  {
   "cell_type": "markdown",
   "id": "9a1d86a1-5a3a-413f-ab7e-26c06d306886",
   "metadata": {},
   "source": [
    "As we have seen the Dataframe is cumbersome and we had to set the `low_memory` to `False` to avoid a warning message from the notebook. This is due to the numerous columns of the dataset. Let us now explore the dataset with the data dictionary as this will be useful as we go through the data and try to clean it.\n",
    "\n",
    "One important thing to keep in mind is that we will need to be careful about data from the future, this type of leakage could throw off the predictions of our model. A clear example is information about the borrower after the loan was approved, this is not data that we would have at our disposal. \n",
    "\n",
    "We will be splitting the set in 4 columns giving us 13 features to analysis and try to make sense of. This part is crucial in order to understand the data and avoid error while fitting our machine learning model later on. "
   ]
  },
  {
   "cell_type": "markdown",
   "id": "d1698b34-d275-460e-b256-f204cfe70b81",
   "metadata": {},
   "source": [
    "## II. Analysis"
   ]
  },
  {
   "cell_type": "markdown",
   "id": "d8552dac-3d9c-48f0-96a6-e6dfb369a60b",
   "metadata": {},
   "source": [
    "### Features Meaning and Usefulness\n",
    "We will use the first entry of the `loan_data.csv` file to explore the meaning of the remaining 52 columns. "
   ]
  },
  {
   "cell_type": "code",
   "execution_count": 9,
   "id": "fb7b7f40-d30f-47a7-a0e0-6b8c2ddfe0a8",
   "metadata": {},
   "outputs": [],
   "source": [
    "first_entry = loan_data.iloc[0]\n",
    "first_entry.to_csv('first_entry.csv', index = True)"
   ]
  },
  {
   "cell_type": "code",
   "execution_count": 10,
   "id": "dc62b3e0-f020-41b6-a27b-2edccb9b62ca",
   "metadata": {},
   "outputs": [
    {
     "data": {
      "text/plain": [
       "(117, 3)"
      ]
     },
     "execution_count": 10,
     "metadata": {},
     "output_type": "execute_result"
    }
   ],
   "source": [
    "description = pd.read_csv('LCDataDictionary.csv', encoding='latin1')\n",
    "\n",
    "description.shape"
   ]
  },
  {
   "cell_type": "code",
   "execution_count": 11,
   "id": "ce62070d-aa39-4d9d-99bf-c416c2632a39",
   "metadata": {},
   "outputs": [],
   "source": [
    "import csv\n",
    "list_first_entry = open('first_entry.csv', 'r')\n",
    "first_csvreader = csv.reader(list_first_entry)\n",
    "first_list = list(first_csvreader)\n",
    "\n",
    "list_data_dictio = open('LCDataDictionary.csv', 'r')\n",
    "second_csvreader = csv.reader(list_data_dictio)\n",
    "second_list = list(second_csvreader)\n",
    "\n",
    "table = []\n",
    "for row in first_list:\n",
    "    table.append(row[0])\n",
    "\n",
    "new_table = []\n",
    "for col in second_list:\n",
    "    if col[0] in table:\n",
    "        new_table.append(col)"
   ]
  },
  {
   "cell_type": "code",
   "execution_count": 12,
   "id": "1fc3dbc5-1350-44bd-a4bb-a1a4dc9a6a43",
   "metadata": {},
   "outputs": [
    {
     "name": "stdout",
     "output_type": "stream",
     "text": [
      "54\n"
     ]
    }
   ],
   "source": [
    "print(len(new_table))"
   ]
  },
  {
   "cell_type": "code",
   "execution_count": 13,
   "id": "dd5ad1f6-3071-4f90-a5d5-f26a8a71911a",
   "metadata": {},
   "outputs": [
    {
     "name": "stdout",
     "output_type": "stream",
     "text": [
      "[['acc_now_delinq', 'The number of accounts on which the borrower is now delinquent.', ''], ['addr_state', 'The state provided by the borrower in the loan application', ''], ['annual_inc', 'The self-reported annual income provided by the borrower during registration.', ''], ['application_type', 'Indicates whether the loan is an individual application or a joint application with two co-borrowers', ''], ['chargeoff_within_12_mths', 'Number of charge-offs within 12 months', ''], ['collection_recovery_fee', 'post charge off collection fee', ''], ['collections_12_mths_ex_med', 'Number of collections in 12 months excluding medical collections', ''], ['delinq_2yrs', \"The number of 30+ days past-due incidences of delinquency in the borrower's credit file for the past 2 years\", ''], ['delinq_amnt', 'The past-due amount owed for the accounts on which the borrower is now delinquent.', ''], ['dti', 'A ratio calculated using the borrower’s total monthly debt payments on the total debt obligations, excluding mortgage and the requested LC loan, divided by the borrower’s self-reported monthly income.', ''], ['earliest_cr_line', \"The month the borrower's earliest reported credit line was opened\", ''], ['emp_length', 'Employment length in years. Possible values are between 0 and 10 where 0 means less than one year and 10 means ten or more years. ', ''], ['emp_title', 'The job title supplied by the Borrower when applying for the loan.*', ''], ['funded_amnt', 'The total amount committed to that loan at that point in time.', ''], ['funded_amnt_inv', 'The total amount committed by investors for that loan at that point in time.', ''], ['grade', 'LC assigned loan grade', ''], ['home_ownership', 'The home ownership status provided by the borrower during registration\\xa0or obtained from the credit report.\\xa0Our values are: RENT, OWN, MORTGAGE, OTHER', ''], ['id', 'A unique LC assigned ID for the loan listing.', ''], ['initial_list_status', 'The initial listing status of the loan. Possible values are – W, F', ''], ['inq_last_6mths', 'The number of inquiries in past 6 months (excluding auto and mortgage inquiries)', ''], ['installment', 'The monthly payment owed by the borrower if the loan originates.', ''], ['int_rate', 'Interest Rate on the loan', ''], ['issue_d', 'The month which the loan was funded', ''], ['last_credit_pull_d', 'The most recent month LC pulled credit for this loan', ''], ['last_pymnt_amnt', 'Last total payment amount received', ''], ['last_pymnt_d', 'Last month payment was received', ''], ['loan_amnt', 'The listed amount of the loan applied for by the borrower. If at some point in time, the credit department reduces the loan amount, then it will be reflected in this value.', ''], ['loan_status', 'Current status of the loan', ''], ['member_id', 'A unique LC assigned Id for the borrower member.', ''], ['open_acc', \"The number of open credit lines in the borrower's credit file.\", ''], ['out_prncp', 'Remaining outstanding principal for total amount funded', ''], ['out_prncp_inv', 'Remaining outstanding principal for portion of total amount funded by investors', ''], ['policy_code', 'publicly available policy_code=1\\nnew products not publicly available policy_code=2', ''], ['pub_rec', 'Number of derogatory public records', ''], ['pub_rec_bankruptcies', 'Number of public record bankruptcies', ''], ['purpose', 'A category provided by the borrower for the loan request. ', ''], ['pymnt_plan', 'Indicates if a payment plan has been put in place for the loan', ''], ['recoveries', 'post charge off gross recovery', ''], ['revol_bal', 'Total credit revolving balance', ''], ['revol_util', 'Revolving line utilization rate, or the amount of credit the borrower is using relative to all available revolving credit.', ''], ['sub_grade', 'LC assigned loan subgrade', ''], ['tax_liens', 'Number of tax liens', ''], ['term', 'The number of payments on the loan. Values are in months and can be either 36 or 60.', ''], ['title', 'The loan title provided by the borrower', ''], ['total_acc', \"The total number of credit lines currently in the borrower's credit file\", ''], ['total_pymnt', 'Payments received to date for total amount funded', ''], ['total_pymnt_inv', 'Payments received to date for portion of total amount funded by investors', ''], ['total_rec_int', 'Interest received to date', ''], ['total_rec_late_fee', 'Late fees received to date', ''], ['total_rec_prncp', 'Principal received to date', ''], ['verification_status', 'Indicates if income was verified by LC, not verified, or if the income source was verified', ''], ['zip_code', 'The first 3 numbers of the zip code provided by the borrower in the loan application.', ''], ['', '', ''], ['', '* Employer Title replaces Employer Name for all loans listed after 9/23/2013', '']]\n"
     ]
    }
   ],
   "source": [
    "print(new_table)"
   ]
  },
  {
   "cell_type": "code",
   "execution_count": 14,
   "id": "1f8a003e-149f-413e-bb74-7dea3a229454",
   "metadata": {},
   "outputs": [
    {
     "name": "stdout",
     "output_type": "stream",
     "text": [
      "3\n"
     ]
    }
   ],
   "source": [
    "print(len(new_table[0]))"
   ]
  },
  {
   "cell_type": "code",
   "execution_count": 15,
   "id": "2425d8de-1a09-4014-a541-7160b5c0e74c",
   "metadata": {},
   "outputs": [
    {
     "name": "stdout",
     "output_type": "stream",
     "text": [
      "2\n"
     ]
    }
   ],
   "source": [
    "print(len(['Variable','Description']))"
   ]
  },
  {
   "cell_type": "code",
   "execution_count": 16,
   "id": "96a05500-e0a2-41d6-8ec6-3e0c7a83a566",
   "metadata": {},
   "outputs": [],
   "source": [
    "new_table = [row[:2] for row in new_table]"
   ]
  },
  {
   "cell_type": "code",
   "execution_count": 17,
   "id": "6ee188db-cbd7-46b0-aafa-b74784f31e77",
   "metadata": {},
   "outputs": [],
   "source": [
    "df_table = pd.DataFrame(new_table, columns = ['Variable', 'Description'])"
   ]
  },
  {
   "cell_type": "code",
   "execution_count": 18,
   "id": "104fc985-00ac-4045-9028-e78a4b35590b",
   "metadata": {},
   "outputs": [],
   "source": [
    "df_table = df_table.set_index(['Variable', 'Description'])"
   ]
  },
  {
   "cell_type": "markdown",
   "id": "c03cb4b2-3819-4e0b-baa1-4cdb068c13b9",
   "metadata": {},
   "source": [
    "### First Set Of Features\n",
    "By analyzing the first 13 features, we understand that we can remove the *`id`* and *`member_id`* feature because it does not tell us anything about the person, these are arbitrary features given by Lending Club.\n",
    "\n",
    "The *`funded_amnt`* and *`funded_amnt_inv`* are both features about the future the loan has been approved at that point and cannot be considered in our model. *`grade`* and *`sub_grade`* are recurring data  that we already have with (or a different angle on) the *`int_rate`* feature, thus we can dispose of them. \n",
    "\n",
    "Finally, although it could be an area of improvement in our model, the *`emp_title`* feature would be a hard feature to evaluate. Some form of sentiment analysis would need to be used and certain metrics would need to provide a good estimate of a title's meaning and value in the lending context. We will refrain ourselves in delving deeper, but we noticed this could be an interesting data science side project.  "
   ]
  },
  {
   "cell_type": "code",
   "execution_count": 19,
   "id": "4982b820-4108-448c-ae8a-ec2b34f6d126",
   "metadata": {},
   "outputs": [
    {
     "data": {
      "text/html": [
       "<div>\n",
       "<style scoped>\n",
       "    .dataframe tbody tr th:only-of-type {\n",
       "        vertical-align: middle;\n",
       "    }\n",
       "\n",
       "    .dataframe tbody tr th {\n",
       "        vertical-align: top;\n",
       "    }\n",
       "\n",
       "    .dataframe thead th {\n",
       "        text-align: right;\n",
       "    }\n",
       "</style>\n",
       "<table border=\"1\" class=\"dataframe\">\n",
       "  <thead>\n",
       "    <tr style=\"text-align: right;\">\n",
       "      <th></th>\n",
       "      <th></th>\n",
       "    </tr>\n",
       "    <tr>\n",
       "      <th>Variable</th>\n",
       "      <th>Description</th>\n",
       "    </tr>\n",
       "  </thead>\n",
       "  <tbody>\n",
       "    <tr>\n",
       "      <th>id</th>\n",
       "      <th>A unique LC assigned ID for the loan listing.</th>\n",
       "    </tr>\n",
       "    <tr>\n",
       "      <th>member_id</th>\n",
       "      <th>A unique LC assigned Id for the borrower member.</th>\n",
       "    </tr>\n",
       "    <tr>\n",
       "      <th>loan_amnt</th>\n",
       "      <th>The listed amount of the loan applied for by the borrower. If at some point in time, the credit department reduces the loan amount, then it will be reflected in this value.</th>\n",
       "    </tr>\n",
       "    <tr>\n",
       "      <th>funded_amnt</th>\n",
       "      <th>The total amount committed to that loan at that point in time.</th>\n",
       "    </tr>\n",
       "    <tr>\n",
       "      <th>funded_amnt_inv</th>\n",
       "      <th>The total amount committed by investors for that loan at that point in time.</th>\n",
       "    </tr>\n",
       "    <tr>\n",
       "      <th>term</th>\n",
       "      <th>The number of payments on the loan. Values are in months and can be either 36 or 60.</th>\n",
       "    </tr>\n",
       "    <tr>\n",
       "      <th>int_rate</th>\n",
       "      <th>Interest Rate on the loan</th>\n",
       "    </tr>\n",
       "    <tr>\n",
       "      <th>installment</th>\n",
       "      <th>The monthly payment owed by the borrower if the loan originates.</th>\n",
       "    </tr>\n",
       "    <tr>\n",
       "      <th>grade</th>\n",
       "      <th>LC assigned loan grade</th>\n",
       "    </tr>\n",
       "    <tr>\n",
       "      <th>sub_grade</th>\n",
       "      <th>LC assigned loan subgrade</th>\n",
       "    </tr>\n",
       "    <tr>\n",
       "      <th>emp_title</th>\n",
       "      <th>The job title supplied by the Borrower when applying for the loan.*</th>\n",
       "    </tr>\n",
       "    <tr>\n",
       "      <th>emp_length</th>\n",
       "      <th>Employment length in years. Possible values are between 0 and 10 where 0 means less than one year and 10 means ten or more years.</th>\n",
       "    </tr>\n",
       "    <tr>\n",
       "      <th>home_ownership</th>\n",
       "      <th>The home ownership status provided by the borrower during registration or obtained from the credit report. Our values are: RENT, OWN, MORTGAGE, OTHER</th>\n",
       "    </tr>\n",
       "  </tbody>\n",
       "</table>\n",
       "</div>"
      ],
      "text/plain": [
       "Empty DataFrame\n",
       "Columns: []\n",
       "Index: [(id, A unique LC assigned ID for the loan listing.), (member_id, A unique LC assigned Id for the borrower member.), (loan_amnt, The listed amount of the loan applied for by the borrower. If at some point in time, the credit department reduces the loan amount, then it will be reflected in this value.), (funded_amnt, The total amount committed to that loan at that point in time.), (funded_amnt_inv, The total amount committed by investors for that loan at that point in time.), (term, The number of payments on the loan. Values are in months and can be either 36 or 60.), (int_rate, Interest Rate on the loan), (installment, The monthly payment owed by the borrower if the loan originates.), (grade, LC assigned loan grade), (sub_grade, LC assigned loan subgrade), (emp_title, The job title supplied by the Borrower when applying for the loan.*), (emp_length, Employment length in years. Possible values are between 0 and 10 where 0 means less than one year and 10 means ten or more years. ), (home_ownership, The home ownership status provided by the borrower during registration or obtained from the credit report. Our values are: RENT, OWN, MORTGAGE, OTHER)]"
      ]
     },
     "execution_count": 19,
     "metadata": {},
     "output_type": "execute_result"
    }
   ],
   "source": [
    "first_13 = ['id','member_id','loan_amnt','funded_amnt','funded_amnt_inv','term',\n",
    "            'int_rate','installment','grade','sub_grade','emp_title','emp_length','home_ownership']\n",
    "df_table.loc[first_13]"
   ]
  },
  {
   "cell_type": "code",
   "execution_count": 20,
   "id": "81d1fc06-5c47-40ae-ad6b-7f98db0790cc",
   "metadata": {},
   "outputs": [],
   "source": [
    "#We drop the columns enumerated in the cell above.\n",
    "loan_data = loan_data.drop(['id', 'member_id', 'funded_amnt', 'funded_amnt_inv', \n",
    "                              'grade', 'sub_grade', 'emp_title'], axis =1)"
   ]
  },
  {
   "cell_type": "markdown",
   "id": "d14968c7-773c-4110-a9ac-9ba355ccc98f",
   "metadata": {},
   "source": [
    "### Second Set Of Features\n",
    "The next 13 features contain *`issue_d`*, this is data about the month the loan was funded, this means it leaks a future information, we need to remove it. The *`zip_code`* is a column that does not add any value because we already have the state adress with *`addr_state`*. The *`zip_code`* could be used with other economic data to uncover a relationship with the environnement in which a person lives and the risk of default, but this could be seen as discriminatory practice and we only have the first 3 digits of the code area."
   ]
  },
  {
   "cell_type": "code",
   "execution_count": 21,
   "id": "68d35218-3be4-461f-85c2-a712b64fcc05",
   "metadata": {},
   "outputs": [
    {
     "data": {
      "text/html": [
       "<div>\n",
       "<style scoped>\n",
       "    .dataframe tbody tr th:only-of-type {\n",
       "        vertical-align: middle;\n",
       "    }\n",
       "\n",
       "    .dataframe tbody tr th {\n",
       "        vertical-align: top;\n",
       "    }\n",
       "\n",
       "    .dataframe thead th {\n",
       "        text-align: right;\n",
       "    }\n",
       "</style>\n",
       "<table border=\"1\" class=\"dataframe\">\n",
       "  <thead>\n",
       "    <tr style=\"text-align: right;\">\n",
       "      <th></th>\n",
       "      <th></th>\n",
       "    </tr>\n",
       "    <tr>\n",
       "      <th>Variable</th>\n",
       "      <th>Description</th>\n",
       "    </tr>\n",
       "  </thead>\n",
       "  <tbody>\n",
       "    <tr>\n",
       "      <th>annual_inc</th>\n",
       "      <th>The self-reported annual income provided by the borrower during registration.</th>\n",
       "    </tr>\n",
       "    <tr>\n",
       "      <th>verification_status</th>\n",
       "      <th>Indicates if income was verified by LC, not verified, or if the income source was verified</th>\n",
       "    </tr>\n",
       "    <tr>\n",
       "      <th>issue_d</th>\n",
       "      <th>The month which the loan was funded</th>\n",
       "    </tr>\n",
       "    <tr>\n",
       "      <th>loan_status</th>\n",
       "      <th>Current status of the loan</th>\n",
       "    </tr>\n",
       "    <tr>\n",
       "      <th>pymnt_plan</th>\n",
       "      <th>Indicates if a payment plan has been put in place for the loan</th>\n",
       "    </tr>\n",
       "    <tr>\n",
       "      <th>purpose</th>\n",
       "      <th>A category provided by the borrower for the loan request.</th>\n",
       "    </tr>\n",
       "    <tr>\n",
       "      <th>title</th>\n",
       "      <th>The loan title provided by the borrower</th>\n",
       "    </tr>\n",
       "    <tr>\n",
       "      <th>zip_code</th>\n",
       "      <th>The first 3 numbers of the zip code provided by the borrower in the loan application.</th>\n",
       "    </tr>\n",
       "    <tr>\n",
       "      <th>addr_state</th>\n",
       "      <th>The state provided by the borrower in the loan application</th>\n",
       "    </tr>\n",
       "    <tr>\n",
       "      <th>dti</th>\n",
       "      <th>A ratio calculated using the borrower’s total monthly debt payments on the total debt obligations, excluding mortgage and the requested LC loan, divided by the borrower’s self-reported monthly income.</th>\n",
       "    </tr>\n",
       "    <tr>\n",
       "      <th>delinq_2yrs</th>\n",
       "      <th>The number of 30+ days past-due incidences of delinquency in the borrower's credit file for the past 2 years</th>\n",
       "    </tr>\n",
       "    <tr>\n",
       "      <th>earliest_cr_line</th>\n",
       "      <th>The month the borrower's earliest reported credit line was opened</th>\n",
       "    </tr>\n",
       "    <tr>\n",
       "      <th>inq_last_6mths</th>\n",
       "      <th>The number of inquiries in past 6 months (excluding auto and mortgage inquiries)</th>\n",
       "    </tr>\n",
       "  </tbody>\n",
       "</table>\n",
       "</div>"
      ],
      "text/plain": [
       "Empty DataFrame\n",
       "Columns: []\n",
       "Index: [(annual_inc, The self-reported annual income provided by the borrower during registration.), (verification_status, Indicates if income was verified by LC, not verified, or if the income source was verified), (issue_d, The month which the loan was funded), (loan_status, Current status of the loan), (pymnt_plan, Indicates if a payment plan has been put in place for the loan), (purpose, A category provided by the borrower for the loan request. ), (title, The loan title provided by the borrower), (zip_code, The first 3 numbers of the zip code provided by the borrower in the loan application.), (addr_state, The state provided by the borrower in the loan application), (dti, A ratio calculated using the borrower’s total monthly debt payments on the total debt obligations, excluding mortgage and the requested LC loan, divided by the borrower’s self-reported monthly income.), (delinq_2yrs, The number of 30+ days past-due incidences of delinquency in the borrower's credit file for the past 2 years), (earliest_cr_line, The month the borrower's earliest reported credit line was opened), (inq_last_6mths, The number of inquiries in past 6 months (excluding auto and mortgage inquiries))]"
      ]
     },
     "execution_count": 21,
     "metadata": {},
     "output_type": "execute_result"
    }
   ],
   "source": [
    "second_13 = ['annual_inc','verification_status','issue_d','loan_status','pymnt_plan','purpose',\n",
    "             'title','zip_code','addr_state','dti','delinq_2yrs','earliest_cr_line', 'inq_last_6mths']\n",
    "df_table.loc[second_13]"
   ]
  },
  {
   "cell_type": "code",
   "execution_count": 22,
   "id": "bcd522de-8143-42ae-9218-c40ee741021e",
   "metadata": {},
   "outputs": [],
   "source": [
    "loan_data = loan_data.drop(['issue_d','zip_code'], axis =1)"
   ]
  },
  {
   "cell_type": "markdown",
   "id": "64dbf243-6451-478d-84fa-19cf9824d094",
   "metadata": {},
   "source": [
    "### Third Set Of Features\n",
    "The following 5 variables are all about the future, they inform us about how the repayment is going, *`out_prncp`*, *`out_prncp_inv`*, *`total_pymnt`*, *`total_pymnt_inv`*, *`total_rec_prncp`*. We need to remove them from our model. The *`total_rec_int`* is about the interest received to date (meaning the loan has been approved) and *`total_rec_late_fee`* is about the interest that are late. These 2 variables need to be removed from the dataset."
   ]
  },
  {
   "cell_type": "code",
   "execution_count": 23,
   "id": "79f13636-5908-4469-be11-e6c45d1c0613",
   "metadata": {},
   "outputs": [
    {
     "data": {
      "text/html": [
       "<div>\n",
       "<style scoped>\n",
       "    .dataframe tbody tr th:only-of-type {\n",
       "        vertical-align: middle;\n",
       "    }\n",
       "\n",
       "    .dataframe tbody tr th {\n",
       "        vertical-align: top;\n",
       "    }\n",
       "\n",
       "    .dataframe thead th {\n",
       "        text-align: right;\n",
       "    }\n",
       "</style>\n",
       "<table border=\"1\" class=\"dataframe\">\n",
       "  <thead>\n",
       "    <tr style=\"text-align: right;\">\n",
       "      <th></th>\n",
       "      <th></th>\n",
       "    </tr>\n",
       "    <tr>\n",
       "      <th>Variable</th>\n",
       "      <th>Description</th>\n",
       "    </tr>\n",
       "  </thead>\n",
       "  <tbody>\n",
       "    <tr>\n",
       "      <th>open_acc</th>\n",
       "      <th>The number of open credit lines in the borrower's credit file.</th>\n",
       "    </tr>\n",
       "    <tr>\n",
       "      <th>pub_rec</th>\n",
       "      <th>Number of derogatory public records</th>\n",
       "    </tr>\n",
       "    <tr>\n",
       "      <th>revol_bal</th>\n",
       "      <th>Total credit revolving balance</th>\n",
       "    </tr>\n",
       "    <tr>\n",
       "      <th>revol_util</th>\n",
       "      <th>Revolving line utilization rate, or the amount of credit the borrower is using relative to all available revolving credit.</th>\n",
       "    </tr>\n",
       "    <tr>\n",
       "      <th>total_acc</th>\n",
       "      <th>The total number of credit lines currently in the borrower's credit file</th>\n",
       "    </tr>\n",
       "    <tr>\n",
       "      <th>initial_list_status</th>\n",
       "      <th>The initial listing status of the loan. Possible values are – W, F</th>\n",
       "    </tr>\n",
       "    <tr>\n",
       "      <th>out_prncp</th>\n",
       "      <th>Remaining outstanding principal for total amount funded</th>\n",
       "    </tr>\n",
       "    <tr>\n",
       "      <th>out_prncp_inv</th>\n",
       "      <th>Remaining outstanding principal for portion of total amount funded by investors</th>\n",
       "    </tr>\n",
       "    <tr>\n",
       "      <th>total_pymnt</th>\n",
       "      <th>Payments received to date for total amount funded</th>\n",
       "    </tr>\n",
       "    <tr>\n",
       "      <th>total_pymnt_inv</th>\n",
       "      <th>Payments received to date for portion of total amount funded by investors</th>\n",
       "    </tr>\n",
       "    <tr>\n",
       "      <th>total_rec_prncp</th>\n",
       "      <th>Principal received to date</th>\n",
       "    </tr>\n",
       "    <tr>\n",
       "      <th>total_rec_int</th>\n",
       "      <th>Interest received to date</th>\n",
       "    </tr>\n",
       "    <tr>\n",
       "      <th>total_rec_late_fee</th>\n",
       "      <th>Late fees received to date</th>\n",
       "    </tr>\n",
       "  </tbody>\n",
       "</table>\n",
       "</div>"
      ],
      "text/plain": [
       "Empty DataFrame\n",
       "Columns: []\n",
       "Index: [(open_acc, The number of open credit lines in the borrower's credit file.), (pub_rec, Number of derogatory public records), (revol_bal, Total credit revolving balance), (revol_util, Revolving line utilization rate, or the amount of credit the borrower is using relative to all available revolving credit.), (total_acc, The total number of credit lines currently in the borrower's credit file), (initial_list_status, The initial listing status of the loan. Possible values are – W, F), (out_prncp, Remaining outstanding principal for total amount funded), (out_prncp_inv, Remaining outstanding principal for portion of total amount funded by investors), (total_pymnt, Payments received to date for total amount funded), (total_pymnt_inv, Payments received to date for portion of total amount funded by investors), (total_rec_prncp, Principal received to date), (total_rec_int, Interest received to date), (total_rec_late_fee, Late fees received to date)]"
      ]
     },
     "execution_count": 23,
     "metadata": {},
     "output_type": "execute_result"
    }
   ],
   "source": [
    "third_13 = ['open_acc', 'pub_rec', 'revol_bal','revol_util','total_acc', 'initial_list_status','out_prncp',\n",
    "            'out_prncp_inv','total_pymnt','total_pymnt_inv','total_rec_prncp','total_rec_int', 'total_rec_late_fee']\n",
    "df_table.loc[third_13]"
   ]
  },
  {
   "cell_type": "code",
   "execution_count": 24,
   "id": "cbc39072-f092-43a1-94e0-022369a66e04",
   "metadata": {},
   "outputs": [],
   "source": [
    "loan_data = loan_data.drop(['out_prncp', 'out_prncp_inv', 'total_pymnt', 'total_pymnt_inv',\n",
    "                              'total_rec_prncp', 'total_rec_int', 'total_rec_late_fee'], axis =1)"
   ]
  },
  {
   "cell_type": "markdown",
   "id": "4e6b4bdf-f8ea-403e-8a76-58f176c3b441",
   "metadata": {},
   "source": [
    "### Fourth Set Of Features\n",
    "Finally, the last set of 13 features contain *`recoveries`* and *`collection_recovery_fee`* which are both leak from the future about the loan. And *`last_pymnt_d`* and *`last_pmyny_amnt`* are about the end of repayment, which means we cannot know that in advance.    "
   ]
  },
  {
   "cell_type": "code",
   "execution_count": 25,
   "id": "85218f02-91d9-45db-8a1f-ad2a428c8259",
   "metadata": {},
   "outputs": [
    {
     "data": {
      "text/html": [
       "<div>\n",
       "<style scoped>\n",
       "    .dataframe tbody tr th:only-of-type {\n",
       "        vertical-align: middle;\n",
       "    }\n",
       "\n",
       "    .dataframe tbody tr th {\n",
       "        vertical-align: top;\n",
       "    }\n",
       "\n",
       "    .dataframe thead th {\n",
       "        text-align: right;\n",
       "    }\n",
       "</style>\n",
       "<table border=\"1\" class=\"dataframe\">\n",
       "  <thead>\n",
       "    <tr style=\"text-align: right;\">\n",
       "      <th></th>\n",
       "      <th></th>\n",
       "    </tr>\n",
       "    <tr>\n",
       "      <th>Variable</th>\n",
       "      <th>Description</th>\n",
       "    </tr>\n",
       "  </thead>\n",
       "  <tbody>\n",
       "    <tr>\n",
       "      <th>recoveries</th>\n",
       "      <th>post charge off gross recovery</th>\n",
       "    </tr>\n",
       "    <tr>\n",
       "      <th>collection_recovery_fee</th>\n",
       "      <th>post charge off collection fee</th>\n",
       "    </tr>\n",
       "    <tr>\n",
       "      <th>last_pymnt_d</th>\n",
       "      <th>Last month payment was received</th>\n",
       "    </tr>\n",
       "    <tr>\n",
       "      <th>last_pymnt_amnt</th>\n",
       "      <th>Last total payment amount received</th>\n",
       "    </tr>\n",
       "    <tr>\n",
       "      <th>last_credit_pull_d</th>\n",
       "      <th>The most recent month LC pulled credit for this loan</th>\n",
       "    </tr>\n",
       "    <tr>\n",
       "      <th>collections_12_mths_ex_med</th>\n",
       "      <th>Number of collections in 12 months excluding medical collections</th>\n",
       "    </tr>\n",
       "    <tr>\n",
       "      <th>policy_code</th>\n",
       "      <th>publicly available policy_code=1\\nnew products not publicly available policy_code=2</th>\n",
       "    </tr>\n",
       "    <tr>\n",
       "      <th>application_type</th>\n",
       "      <th>Indicates whether the loan is an individual application or a joint application with two co-borrowers</th>\n",
       "    </tr>\n",
       "    <tr>\n",
       "      <th>acc_now_delinq</th>\n",
       "      <th>The number of accounts on which the borrower is now delinquent.</th>\n",
       "    </tr>\n",
       "    <tr>\n",
       "      <th>chargeoff_within_12_mths</th>\n",
       "      <th>Number of charge-offs within 12 months</th>\n",
       "    </tr>\n",
       "    <tr>\n",
       "      <th>delinq_amnt</th>\n",
       "      <th>The past-due amount owed for the accounts on which the borrower is now delinquent.</th>\n",
       "    </tr>\n",
       "    <tr>\n",
       "      <th>pub_rec_bankruptcies</th>\n",
       "      <th>Number of public record bankruptcies</th>\n",
       "    </tr>\n",
       "    <tr>\n",
       "      <th>tax_liens</th>\n",
       "      <th>Number of tax liens</th>\n",
       "    </tr>\n",
       "  </tbody>\n",
       "</table>\n",
       "</div>"
      ],
      "text/plain": [
       "Empty DataFrame\n",
       "Columns: []\n",
       "Index: [(recoveries, post charge off gross recovery), (collection_recovery_fee, post charge off collection fee), (last_pymnt_d, Last month payment was received), (last_pymnt_amnt, Last total payment amount received), (last_credit_pull_d, The most recent month LC pulled credit for this loan), (collections_12_mths_ex_med, Number of collections in 12 months excluding medical collections), (policy_code, publicly available policy_code=1\n",
       "new products not publicly available policy_code=2), (application_type, Indicates whether the loan is an individual application or a joint application with two co-borrowers), (acc_now_delinq, The number of accounts on which the borrower is now delinquent.), (chargeoff_within_12_mths, Number of charge-offs within 12 months), (delinq_amnt, The past-due amount owed for the accounts on which the borrower is now delinquent.), (pub_rec_bankruptcies, Number of public record bankruptcies), (tax_liens, Number of tax liens)]"
      ]
     },
     "execution_count": 25,
     "metadata": {},
     "output_type": "execute_result"
    }
   ],
   "source": [
    "fourth_13 = ['recoveries','collection_recovery_fee', 'last_pymnt_d', 'last_pymnt_amnt','last_credit_pull_d',\n",
    "             'collections_12_mths_ex_med','policy_code','application_type','acc_now_delinq','chargeoff_within_12_mths',\n",
    "             'delinq_amnt','pub_rec_bankruptcies','tax_liens']\n",
    "df_table.loc[fourth_13]"
   ]
  },
  {
   "cell_type": "code",
   "execution_count": 26,
   "id": "01249853-e0a7-4ee4-b3ed-4da2d085a0ab",
   "metadata": {},
   "outputs": [],
   "source": [
    "loan_data = loan_data.drop(['recoveries', 'collection_recovery_fee', \n",
    "                              'last_pymnt_d', 'last_pymnt_amnt'], axis =1)"
   ]
  },
  {
   "cell_type": "code",
   "execution_count": 27,
   "id": "e41ed72a-267e-4173-af84-bc4744abcb74",
   "metadata": {},
   "outputs": [
    {
     "data": {
      "text/plain": [
       "(42538, 32)"
      ]
     },
     "execution_count": 27,
     "metadata": {},
     "output_type": "execute_result"
    }
   ],
   "source": [
    "loan_data.shape"
   ]
  },
  {
   "cell_type": "markdown",
   "id": "b5fd23ba-3a48-4eff-8816-d93f20d6a6fe",
   "metadata": {},
   "source": [
    "We now have 32 columns to work with. We removed 20 columns of unuseful information and this will make the data easier to process and fit with the machine learning algorithm. But we are not done."
   ]
  },
  {
   "cell_type": "markdown",
   "id": "2ff0fece-6a82-4535-b4b1-5463578eecd7",
   "metadata": {},
   "source": [
    "### Target Column\n",
    "The target column is a critical part when fitting this type of data to machine learning algorithms because it tries to make prediction based on the outcome that we want. In this particular case, we want to predict the loan status (*`loan_status`*) which can take many values (9) in total. "
   ]
  },
  {
   "cell_type": "code",
   "execution_count": 28,
   "id": "36361689-5ee5-4718-a0b8-0cdd9c38a60a",
   "metadata": {},
   "outputs": [
    {
     "data": {
      "text/plain": [
       "loan_status\n",
       "Fully Paid                                             34085\n",
       "Charged Off                                             5662\n",
       "Does not meet the credit policy. Status:Fully Paid      1988\n",
       "Does not meet the credit policy. Status:Charged Off      761\n",
       "Current                                                   19\n",
       "Late (31-120 days)                                         9\n",
       "In Grace Period                                            8\n",
       "Late (16-30 days)                                          2\n",
       "Default                                                    1\n",
       "Name: count, dtype: int64"
      ]
     },
     "execution_count": 28,
     "metadata": {},
     "output_type": "execute_result"
    }
   ],
   "source": [
    "loan_data['loan_status'].value_counts()"
   ]
  },
  {
   "cell_type": "code",
   "execution_count": 29,
   "id": "0a7494d8-8a1b-42a5-ab2b-1a33d21029bd",
   "metadata": {},
   "outputs": [
    {
     "data": {
      "image/png": "[encoded data removed]",
      "text/plain": [
       "<Figure size 640x480 with 1 Axes>"
      ]
     },
     "metadata": {},
     "output_type": "display_data"
    }
   ],
   "source": [
    "loan_data['loan_status'].value_counts().plot(kind= 'barh', color = 'orange', title = 'Possible Loan Status', alpha = 0.75)\n",
    "plt.show()"
   ]
  },
  {
   "cell_type": "markdown",
   "id": "26157f3a-c969-4510-b01c-2dffd993e712",
   "metadata": {},
   "source": [
    "We have 9 possibility for *`loan_status`* and only 2 values are important in our model's binary classification; fully paid and charged off. These 2 values indicate the result of the loan outcome. We will remove the other possibilities and avoid \"translating\" those values into the binary possibility (fully paid or charged off)."
   ]
  },
  {
   "cell_type": "code",
   "execution_count": 30,
   "id": "3938ef29-a049-42e5-a13d-1fa471b2ed81",
   "metadata": {},
   "outputs": [],
   "source": [
    "loan_data = loan_data[(loan_data['loan_status'] == \"Fully Paid\") | (loan_data['loan_status'] == \"Charged Off\")]"
   ]
  },
  {
   "cell_type": "code",
   "execution_count": 31,
   "id": "ead97967-685d-4b9b-90c3-d451deb465da",
   "metadata": {},
   "outputs": [
    {
     "data": {
      "image/png": "[encoded data removed]",
      "text/plain": [
       "<Figure size 640x480 with 1 Axes>"
      ]
     },
     "metadata": {},
     "output_type": "display_data"
    }
   ],
   "source": [
    "loan_data['loan_status'].value_counts().plot(kind= 'barh', color = 'blue', title = 'Simplified Possible Loan Status', alpha = 0.55)\n",
    "plt.show()"
   ]
  },
  {
   "cell_type": "markdown",
   "id": "9ede1258-2156-4e29-a86b-cdd23de009b2",
   "metadata": {},
   "source": [
    "We need to change the object value to numerical for the algorithm processing. Let's use a dictionary."
   ]
  },
  {
   "cell_type": "code",
   "execution_count": 32,
   "id": "220f1dad-1fd9-4ce0-950e-31a81ab4780b",
   "metadata": {},
   "outputs": [
    {
     "name": "stderr",
     "output_type": "stream",
     "text": [
      "C:\\Users\\user\\AppData\\Local\\Temp\\ipykernel_9732\\770176543.py:7: FutureWarning: Downcasting behavior in `replace` is deprecated and will be removed in a future version. To retain the old behavior, explicitly call `result.infer_objects(copy=False)`. To opt-in to the future behavior, set `pd.set_option('future.no_silent_downcasting', True)`\n",
      "  loan_data = loan_data.replace(status_replace)\n"
     ]
    }
   ],
   "source": [
    "status_replace = {\n",
    "    \"loan_status\" : {\n",
    "        \"Fully Paid\": 1,\n",
    "        \"Charged Off\": 0,\n",
    "    }\n",
    "}\n",
    "loan_data = loan_data.replace(status_replace)"
   ]
  },
  {
   "cell_type": "code",
   "execution_count": 33,
   "id": "1831bedc-bb23-472f-a167-fac97418e329",
   "metadata": {},
   "outputs": [
    {
     "data": {
      "text/plain": [
       "loan_status\n",
       "1    34085\n",
       "0     5662\n",
       "Name: count, dtype: int64"
      ]
     },
     "execution_count": 33,
     "metadata": {},
     "output_type": "execute_result"
    }
   ],
   "source": [
    "loan_data['loan_status'].value_counts()"
   ]
  },
  {
   "cell_type": "code",
   "execution_count": 34,
   "id": "2c97251a-7fb6-401e-9d21-42af8bf72ad1",
   "metadata": {},
   "outputs": [
    {
     "data": {
      "text/plain": [
       "(39747, 32)"
      ]
     },
     "execution_count": 34,
     "metadata": {},
     "output_type": "execute_result"
    }
   ],
   "source": [
    "loan_data.shape"
   ]
  },
  {
   "cell_type": "markdown",
   "id": "342bcacc-0241-407c-a63d-ab8b4a78e348",
   "metadata": {},
   "source": [
    "### Final Data Cleaning\n",
    "Single value columns are not information that help our model, it does not provide any insight into the likelihood of default or repayment, and will be removed from the dataset."
   ]
  },
  {
   "cell_type": "code",
   "execution_count": 35,
   "id": "d2c455fa-a041-4329-b656-78b0a4e8c669",
   "metadata": {},
   "outputs": [
    {
     "data": {
      "text/plain": [
       "['pymnt_plan',\n",
       " 'initial_list_status',\n",
       " 'collections_12_mths_ex_med',\n",
       " 'policy_code',\n",
       " 'application_type',\n",
       " 'acc_now_delinq',\n",
       " 'chargeoff_within_12_mths',\n",
       " 'delinq_amnt',\n",
       " 'tax_liens']"
      ]
     },
     "execution_count": 35,
     "metadata": {},
     "output_type": "execute_result"
    }
   ],
   "source": [
    "orig_columns = loan_data.columns\n",
    "drop_columns = []\n",
    "for col in orig_columns:\n",
    "    col_series = loan_data[col].dropna().unique()\n",
    "    if len(col_series) == 1:\n",
    "        drop_columns.append(col)\n",
    "loan_data = loan_data.drop(drop_columns, axis = 1)\n",
    "drop_columns"
   ]
  },
  {
   "cell_type": "code",
   "execution_count": 36,
   "id": "4808e98c-63eb-4d0d-8e19-e6dbbffdc825",
   "metadata": {},
   "outputs": [
    {
     "data": {
      "text/plain": [
       "(39747, 23)"
      ]
     },
     "execution_count": 36,
     "metadata": {},
     "output_type": "execute_result"
    }
   ],
   "source": [
    "loan_data.shape"
   ]
  },
  {
   "cell_type": "markdown",
   "id": "dfe1d2fb-16d0-426d-ada6-206cbb59d51c",
   "metadata": {},
   "source": [
    "We were able to remove 9 columns and we are left with 23 features to work with. "
   ]
  },
  {
   "cell_type": "markdown",
   "id": "4caeddcc-9537-4734-8dbc-c1cf0380b3b3",
   "metadata": {},
   "source": [
    "## III. Methodology"
   ]
  },
  {
   "cell_type": "markdown",
   "id": "087d11c0-0e04-484a-a472-98abdc3581a2",
   "metadata": {},
   "source": [
    "### Preparing The Features: Dealing With Missing Values\n",
    "We start with the filtered *loan_data.csv* from the previous analysis. Do we have many Null values in the file loan_data? We will look at how we can handle these values. We need to deal with non-numeric value and null values, because scikit-learn assume that the values are numeric and filled, otherwise it could throw an error or miss evaluate the data."
   ]
  },
  {
   "cell_type": "code",
   "execution_count": 37,
   "id": "3d99f68c-20cc-4e11-bb0f-28b82172c34a",
   "metadata": {},
   "outputs": [
    {
     "data": {
      "text/plain": [
       "loan_amnt                  0\n",
       "term                       0\n",
       "int_rate                   0\n",
       "installment                0\n",
       "emp_length              1076\n",
       "home_ownership             0\n",
       "annual_inc                 0\n",
       "verification_status        0\n",
       "loan_status                0\n",
       "purpose                    0\n",
       "title                     11\n",
       "addr_state                 0\n",
       "dti                        0\n",
       "delinq_2yrs                0\n",
       "earliest_cr_line           0\n",
       "inq_last_6mths             0\n",
       "open_acc                   0\n",
       "pub_rec                    0\n",
       "revol_bal                  0\n",
       "revol_util                50\n",
       "total_acc                  0\n",
       "last_credit_pull_d         2\n",
       "pub_rec_bankruptcies     697\n",
       "dtype: int64"
      ]
     },
     "execution_count": 37,
     "metadata": {},
     "output_type": "execute_result"
    }
   ],
   "source": [
    "null_counts = loan_data.isnull().sum()\n",
    "null_counts"
   ]
  },
  {
   "cell_type": "markdown",
   "id": "066f9169-4d16-4aa9-b86a-49701c63c068",
   "metadata": {},
   "source": [
    "We have 4 columns with missing values: 2 with *`last_credit_pull_d`*, 10 with *`title`*, 50 with *`revol_util`* and 697 with *`pub_rec_bankruptcies`* . Instead of removing the columns as we did earlier, we will remove the rows. We consider rows as incomplete (in a real life setting, we would reject the application simply because it is not complete)."
   ]
  },
  {
   "cell_type": "code",
   "execution_count": 38,
   "id": "f3484c92-00a3-4bb2-8f97-4d4335fb5a4f",
   "metadata": {},
   "outputs": [],
   "source": [
    "loan_data = loan_data.drop(\"pub_rec_bankruptcies\", axis=1)\n",
    "loan_data = loan_data.dropna(axis=0)"
   ]
  },
  {
   "cell_type": "code",
   "execution_count": 39,
   "id": "c1f1de9e-edd5-4e6a-ac60-15d5253422e7",
   "metadata": {},
   "outputs": [
    {
     "data": {
      "text/plain": [
       "(38612, 22)"
      ]
     },
     "execution_count": 39,
     "metadata": {},
     "output_type": "execute_result"
    }
   ],
   "source": [
    "loan_data.shape"
   ]
  },
  {
   "cell_type": "markdown",
   "id": "254fe839-8411-4370-aa65-f4d01db75611",
   "metadata": {},
   "source": [
    "### Handling Non-Numeric Data Types \n",
    "The data types of columns are important to look at and we will need to deal with non-numeric values in order to encode and use them in our machine learning algorithms. "
   ]
  },
  {
   "cell_type": "code",
   "execution_count": 40,
   "id": "17ac627a-8f71-4f88-b6e0-522271ed9c1e",
   "metadata": {},
   "outputs": [
    {
     "name": "stdout",
     "output_type": "stream",
     "text": [
      "object     11\n",
      "float64    10\n",
      "int64       1\n",
      "Name: count, dtype: int64\n"
     ]
    }
   ],
   "source": [
    "print(loan_data.dtypes.value_counts())"
   ]
  },
  {
   "cell_type": "markdown",
   "id": "a8dc6ebc-2aea-48dd-98fd-5a7495741aca",
   "metadata": {},
   "source": [
    "We have 11 objects that need to be addressed, let's explore them."
   ]
  },
  {
   "cell_type": "code",
   "execution_count": 41,
   "id": "bcb9be00-e869-49ca-b505-eb3e55b002d6",
   "metadata": {},
   "outputs": [
    {
     "name": "stdout",
     "output_type": "stream",
     "text": [
      "term                     36 months\n",
      "int_rate                    10.65%\n",
      "emp_length               10+ years\n",
      "home_ownership                RENT\n",
      "verification_status       Verified\n",
      "purpose                credit_card\n",
      "title                     Computer\n",
      "addr_state                      AZ\n",
      "earliest_cr_line          Jan-1985\n",
      "revol_util                   83.7%\n",
      "last_credit_pull_d        Dec-2016\n",
      "Name: 0, dtype: object\n"
     ]
    }
   ],
   "source": [
    "object_columns_df = loan_data.select_dtypes(include=[\"object\"])\n",
    "print(object_columns_df.iloc[0])"
   ]
  },
  {
   "cell_type": "markdown",
   "id": "515b530a-a334-4a71-a9a0-eaf5b94c7550",
   "metadata": {},
   "source": [
    "Some of the data seems categorical, this means that we might be able to change it into numerical. Let's count the number of occurences of each column. \n",
    "\n",
    "- *`term`* is either 36 or 60. \n",
    "\n",
    "- *`emp_length`* is the \"Employment length in years. Possible values are between 0 and 10 where 0 means less than one year and 10 means ten or more years.\"\n",
    "\n",
    "- *`home_ownership`* can only be 1 of 4 categorical data.\n",
    "\n",
    "- *`verification_status`* \"Indicates if income was verified by (Lending Club), not verified, or if the income source was verified\". One of 2 choices. \n",
    "\n",
    "- *`addr_state`*: \"The state provided by the borrower in the loan application\""
   ]
  },
  {
   "cell_type": "code",
   "execution_count": 42,
   "id": "b9c210b9-50f0-4bb6-aa1f-21457115042d",
   "metadata": {},
   "outputs": [
    {
     "name": "stdout",
     "output_type": "stream",
     "text": [
      "term\n",
      "36 months    28234\n",
      "60 months    10378\n",
      "Name: count, dtype: int64\n",
      " \n",
      "emp_length\n",
      "10+ years    8886\n",
      "< 1 year     4573\n",
      "2 years      4387\n",
      "3 years      4090\n",
      "4 years      3429\n",
      "5 years      3279\n",
      "1 year       3236\n",
      "6 years      2224\n",
      "7 years      1770\n",
      "8 years      1480\n",
      "9 years      1258\n",
      "Name: count, dtype: int64\n",
      " \n",
      "home_ownership\n",
      "RENT        18451\n",
      "MORTGAGE    17226\n",
      "OWN          2836\n",
      "OTHER          96\n",
      "NONE            3\n",
      "Name: count, dtype: int64\n",
      " \n",
      "verification_status\n",
      "Not Verified       16466\n",
      "Verified           12354\n",
      "Source Verified     9792\n",
      "Name: count, dtype: int64\n",
      " \n",
      "addr_state\n",
      "CA    6903\n",
      "NY    3707\n",
      "FL    2776\n",
      "TX    2672\n",
      "NJ    1821\n",
      "IL    1486\n",
      "PA    1480\n",
      "VA    1377\n",
      "GA    1357\n",
      "MA    1312\n",
      "OH    1190\n",
      "MD    1033\n",
      "AZ     831\n",
      "WA     806\n",
      "CO     768\n",
      "NC     760\n",
      "CT     733\n",
      "MI     688\n",
      "MO     661\n",
      "MN     591\n",
      "NV     482\n",
      "SC     464\n",
      "WI     444\n",
      "OR     434\n",
      "AL     431\n",
      "LA     426\n",
      "KY     323\n",
      "OK     293\n",
      "KS     260\n",
      "UT     252\n",
      "AR     235\n",
      "DC     212\n",
      "RI     197\n",
      "NM     183\n",
      "HI     169\n",
      "WV     168\n",
      "NH     162\n",
      "DE     110\n",
      "WY      79\n",
      "MT      79\n",
      "AK      77\n",
      "SD      62\n",
      "VT      54\n",
      "MS      19\n",
      "TN      17\n",
      "IN       9\n",
      "ID       6\n",
      "IA       5\n",
      "NE       5\n",
      "ME       3\n",
      "Name: count, dtype: int64\n",
      " \n"
     ]
    }
   ],
   "source": [
    "columns = ['term', 'emp_length', 'home_ownership', 'verification_status', 'addr_state']\n",
    "for col in columns:\n",
    "    print(loan_data[col].value_counts())\n",
    "    print( \" \" )"
   ]
  },
  {
   "cell_type": "markdown",
   "id": "834ac273-6d9e-490c-9e33-a21f9003aac7",
   "metadata": {},
   "source": [
    "The previous four columns contain a couple categorical values, we will encode them as dummy variables for our model. We will remove the *`addr_state`* because if we were to encode all these variables, we would make our dataframe quite large and would slow the computation done by our machine learning algorithm."
   ]
  },
  {
   "cell_type": "markdown",
   "id": "a4863d86-c999-4a64-89b1-c29b7d880f21",
   "metadata": {},
   "source": [
    "Let's now take a look at the next columns:\n",
    "- *`purpose`* is \"a category provided by the borrower for the loan request\". \n",
    "\n",
    "- *`title`* : \"The loan title provided by the borrower\"\n"
   ]
  },
  {
   "cell_type": "code",
   "execution_count": 43,
   "id": "097a007d-34f7-4986-9dac-b0a4d6639277",
   "metadata": {},
   "outputs": [
    {
     "name": "stdout",
     "output_type": "stream",
     "text": [
      "purpose\n",
      "debt_consolidation    18239\n",
      "credit_card            4999\n",
      "other                  3821\n",
      "home_improvement       2883\n",
      "major_purchase         2108\n",
      "small_business         1779\n",
      "car                    1497\n",
      "wedding                 934\n",
      "medical                 668\n",
      "moving                  557\n",
      "house                   369\n",
      "vacation                351\n",
      "educational             312\n",
      "renewable_energy         95\n",
      "Name: count, dtype: int64\n",
      " \n",
      "title\n",
      "Debt Consolidation            2145\n",
      "Debt Consolidation Loan       1691\n",
      "Personal Loan                  643\n",
      "Consolidation                  508\n",
      "debt consolidation             488\n",
      "                              ... \n",
      "Last Credit Card Refinance       1\n",
      "Fidelity Payoff                  1\n",
      "DYLAN'S PERSONAL LOAN            1\n",
      "Pay down debt loan               1\n",
      "JAL Loan                         1\n",
      "Name: count, Length: 19133, dtype: int64\n"
     ]
    }
   ],
   "source": [
    "print (loan_data[\"purpose\"].value_counts())\n",
    "print (\" \")\n",
    "print (loan_data[\"title\"].value_counts())"
   ]
  },
  {
   "cell_type": "markdown",
   "id": "763ef6ac-7269-4fb4-805c-a6e9f836115b",
   "metadata": {},
   "source": [
    "The 2 columns seem to have similar information. We will keep the *`purpose`* column as the *`title`* column is probably added by the customer and can vary. The purpose is streamlined in comparison with the *`title`* containing a lot of the same just under a different form (debt consolidation written in different ways)."
   ]
  },
  {
   "cell_type": "markdown",
   "id": "642d9c32-49d8-44fe-a1b7-87964aa00f52",
   "metadata": {},
   "source": [
    "The next values are dates.\n",
    "\n",
    "- *`earliest_cr_line`*: \"The month the borrower's earliest reported credit line was opened\"\n",
    "\n",
    "- *`last_credit_pull_d`*: \"The most recent month LC pulled credit for this loan\"\n",
    "\n",
    "\n",
    "These values are a already numerical, but mean something else. \n",
    "- *`int_rate`* is the percentage of the interest, that way we know that it is x%.\n",
    "\n",
    "- *`revol_util`*: \"Revolving line utilization rate, or the amount of credit the borrower is using relative to all available revolving credit.\""
   ]
  },
  {
   "cell_type": "markdown",
   "id": "7bd3f447-5a4d-45a0-9f0c-1453b63eac0d",
   "metadata": {},
   "source": [
    "The reason the loan was asked for. "
   ]
  },
  {
   "cell_type": "markdown",
   "id": "fc3198a7-08c5-4af7-a70e-a11ac4b68caa",
   "metadata": {},
   "source": [
    "We need to encode categorical value with dummy variables. "
   ]
  },
  {
   "cell_type": "code",
   "execution_count": 44,
   "id": "64db865e-899d-4de2-a035-9bc504b96b3b",
   "metadata": {},
   "outputs": [
    {
     "name": "stderr",
     "output_type": "stream",
     "text": [
      "C:\\Users\\user\\AppData\\Local\\Temp\\ipykernel_9732\\367328925.py:20: FutureWarning: Downcasting behavior in `replace` is deprecated and will be removed in a future version. To retain the old behavior, explicitly call `result.infer_objects(copy=False)`. To opt-in to the future behavior, set `pd.set_option('future.no_silent_downcasting', True)`\n",
      "  loan_data = loan_data.replace(mapping_dict)\n"
     ]
    }
   ],
   "source": [
    "mapping_dict = {\n",
    "    \"emp_length\": {\n",
    "        \"10+ years\": 10,\n",
    "        \"9 years\": 9,\n",
    "        \"8 years\": 8,\n",
    "        \"7 years\": 7,\n",
    "        \"6 years\": 6,\n",
    "        \"5 years\": 5,\n",
    "        \"4 years\": 4,\n",
    "        \"3 years\": 3,\n",
    "        \"2 years\": 2,\n",
    "        \"1 year\": 1,\n",
    "        \"< 1 year\": 0,\n",
    "        \"n/a\": 0\n",
    "    }\n",
    "}\n",
    "loan_data = loan_data.drop([\"last_credit_pull_d\", \"earliest_cr_line\", \"addr_state\", \"title\"], axis=1)\n",
    "loan_data[\"int_rate\"] = loan_data[\"int_rate\"].str.rstrip(\"%\").astype(\"float\")\n",
    "loan_data[\"revol_util\"] = loan_data[\"revol_util\"].str.rstrip(\"%\").astype(\"float\")\n",
    "loan_data = loan_data.replace(mapping_dict)"
   ]
  },
  {
   "cell_type": "markdown",
   "id": "b4e30eee-7dd1-4209-9393-a9801cdfa859",
   "metadata": {},
   "source": [
    "Now, let's encode the previous variables."
   ]
  },
  {
   "cell_type": "code",
   "execution_count": 45,
   "id": "e2e57b99-a3d3-4312-8d8e-b66fb27a9194",
   "metadata": {},
   "outputs": [],
   "source": [
    "categorical_columns = [\"home_ownership\", \"verification_status\", \"emp_length\", \"purpose\", \"term\"]\n",
    "dummy_df = pd.get_dummies(loan_data[categorical_columns])\n",
    "loan_data = pd.concat([loan_data, dummy_df], axis=1)\n",
    "loan_data = loan_data.drop(categorical_columns, axis=1)"
   ]
  },
  {
   "cell_type": "code",
   "execution_count": 46,
   "id": "8e3a6d2e-4df1-458d-bc41-5dcb42ba5951",
   "metadata": {},
   "outputs": [
    {
     "data": {
      "text/html": [
       "<div>\n",
       "<style scoped>\n",
       "    .dataframe tbody tr th:only-of-type {\n",
       "        vertical-align: middle;\n",
       "    }\n",
       "\n",
       "    .dataframe tbody tr th {\n",
       "        vertical-align: top;\n",
       "    }\n",
       "\n",
       "    .dataframe thead th {\n",
       "        text-align: right;\n",
       "    }\n",
       "</style>\n",
       "<table border=\"1\" class=\"dataframe\">\n",
       "  <thead>\n",
       "    <tr style=\"text-align: right;\">\n",
       "      <th></th>\n",
       "      <th>loan_amnt</th>\n",
       "      <th>int_rate</th>\n",
       "      <th>installment</th>\n",
       "      <th>annual_inc</th>\n",
       "      <th>loan_status</th>\n",
       "      <th>dti</th>\n",
       "      <th>delinq_2yrs</th>\n",
       "      <th>inq_last_6mths</th>\n",
       "      <th>open_acc</th>\n",
       "      <th>pub_rec</th>\n",
       "      <th>...</th>\n",
       "      <th>purpose_major_purchase</th>\n",
       "      <th>purpose_medical</th>\n",
       "      <th>purpose_moving</th>\n",
       "      <th>purpose_other</th>\n",
       "      <th>purpose_renewable_energy</th>\n",
       "      <th>purpose_small_business</th>\n",
       "      <th>purpose_vacation</th>\n",
       "      <th>purpose_wedding</th>\n",
       "      <th>term_ 36 months</th>\n",
       "      <th>term_ 60 months</th>\n",
       "    </tr>\n",
       "  </thead>\n",
       "  <tbody>\n",
       "    <tr>\n",
       "      <th>0</th>\n",
       "      <td>5000.0</td>\n",
       "      <td>10.65</td>\n",
       "      <td>162.87</td>\n",
       "      <td>24000.0</td>\n",
       "      <td>1</td>\n",
       "      <td>27.65</td>\n",
       "      <td>0.0</td>\n",
       "      <td>1.0</td>\n",
       "      <td>3.0</td>\n",
       "      <td>0.0</td>\n",
       "      <td>...</td>\n",
       "      <td>False</td>\n",
       "      <td>False</td>\n",
       "      <td>False</td>\n",
       "      <td>False</td>\n",
       "      <td>False</td>\n",
       "      <td>False</td>\n",
       "      <td>False</td>\n",
       "      <td>False</td>\n",
       "      <td>True</td>\n",
       "      <td>False</td>\n",
       "    </tr>\n",
       "    <tr>\n",
       "      <th>1</th>\n",
       "      <td>2500.0</td>\n",
       "      <td>15.27</td>\n",
       "      <td>59.83</td>\n",
       "      <td>30000.0</td>\n",
       "      <td>0</td>\n",
       "      <td>1.00</td>\n",
       "      <td>0.0</td>\n",
       "      <td>5.0</td>\n",
       "      <td>3.0</td>\n",
       "      <td>0.0</td>\n",
       "      <td>...</td>\n",
       "      <td>False</td>\n",
       "      <td>False</td>\n",
       "      <td>False</td>\n",
       "      <td>False</td>\n",
       "      <td>False</td>\n",
       "      <td>False</td>\n",
       "      <td>False</td>\n",
       "      <td>False</td>\n",
       "      <td>False</td>\n",
       "      <td>True</td>\n",
       "    </tr>\n",
       "    <tr>\n",
       "      <th>2</th>\n",
       "      <td>2400.0</td>\n",
       "      <td>15.96</td>\n",
       "      <td>84.33</td>\n",
       "      <td>12252.0</td>\n",
       "      <td>1</td>\n",
       "      <td>8.72</td>\n",
       "      <td>0.0</td>\n",
       "      <td>2.0</td>\n",
       "      <td>2.0</td>\n",
       "      <td>0.0</td>\n",
       "      <td>...</td>\n",
       "      <td>False</td>\n",
       "      <td>False</td>\n",
       "      <td>False</td>\n",
       "      <td>False</td>\n",
       "      <td>False</td>\n",
       "      <td>True</td>\n",
       "      <td>False</td>\n",
       "      <td>False</td>\n",
       "      <td>True</td>\n",
       "      <td>False</td>\n",
       "    </tr>\n",
       "    <tr>\n",
       "      <th>3</th>\n",
       "      <td>10000.0</td>\n",
       "      <td>13.49</td>\n",
       "      <td>339.31</td>\n",
       "      <td>49200.0</td>\n",
       "      <td>1</td>\n",
       "      <td>20.00</td>\n",
       "      <td>0.0</td>\n",
       "      <td>1.0</td>\n",
       "      <td>10.0</td>\n",
       "      <td>0.0</td>\n",
       "      <td>...</td>\n",
       "      <td>False</td>\n",
       "      <td>False</td>\n",
       "      <td>False</td>\n",
       "      <td>True</td>\n",
       "      <td>False</td>\n",
       "      <td>False</td>\n",
       "      <td>False</td>\n",
       "      <td>False</td>\n",
       "      <td>True</td>\n",
       "      <td>False</td>\n",
       "    </tr>\n",
       "    <tr>\n",
       "      <th>5</th>\n",
       "      <td>5000.0</td>\n",
       "      <td>7.90</td>\n",
       "      <td>156.46</td>\n",
       "      <td>36000.0</td>\n",
       "      <td>1</td>\n",
       "      <td>11.20</td>\n",
       "      <td>0.0</td>\n",
       "      <td>3.0</td>\n",
       "      <td>9.0</td>\n",
       "      <td>0.0</td>\n",
       "      <td>...</td>\n",
       "      <td>False</td>\n",
       "      <td>False</td>\n",
       "      <td>False</td>\n",
       "      <td>False</td>\n",
       "      <td>False</td>\n",
       "      <td>False</td>\n",
       "      <td>False</td>\n",
       "      <td>True</td>\n",
       "      <td>True</td>\n",
       "      <td>False</td>\n",
       "    </tr>\n",
       "  </tbody>\n",
       "</table>\n",
       "<p>5 rows × 37 columns</p>\n",
       "</div>"
      ],
      "text/plain": [
       "   loan_amnt  int_rate  installment  annual_inc  loan_status    dti  \\\n",
       "0     5000.0     10.65       162.87     24000.0            1  27.65   \n",
       "1     2500.0     15.27        59.83     30000.0            0   1.00   \n",
       "2     2400.0     15.96        84.33     12252.0            1   8.72   \n",
       "3    10000.0     13.49       339.31     49200.0            1  20.00   \n",
       "5     5000.0      7.90       156.46     36000.0            1  11.20   \n",
       "\n",
       "   delinq_2yrs  inq_last_6mths  open_acc  pub_rec  ...  \\\n",
       "0          0.0             1.0       3.0      0.0  ...   \n",
       "1          0.0             5.0       3.0      0.0  ...   \n",
       "2          0.0             2.0       2.0      0.0  ...   \n",
       "3          0.0             1.0      10.0      0.0  ...   \n",
       "5          0.0             3.0       9.0      0.0  ...   \n",
       "\n",
       "   purpose_major_purchase  purpose_medical  purpose_moving  purpose_other  \\\n",
       "0                   False            False           False          False   \n",
       "1                   False            False           False          False   \n",
       "2                   False            False           False          False   \n",
       "3                   False            False           False           True   \n",
       "5                   False            False           False          False   \n",
       "\n",
       "   purpose_renewable_energy  purpose_small_business  purpose_vacation  \\\n",
       "0                     False                   False             False   \n",
       "1                     False                   False             False   \n",
       "2                     False                    True             False   \n",
       "3                     False                   False             False   \n",
       "5                     False                   False             False   \n",
       "\n",
       "   purpose_wedding  term_ 36 months  term_ 60 months  \n",
       "0            False             True            False  \n",
       "1            False            False             True  \n",
       "2            False             True            False  \n",
       "3            False             True            False  \n",
       "5             True             True            False  \n",
       "\n",
       "[5 rows x 37 columns]"
      ]
     },
     "execution_count": 46,
     "metadata": {},
     "output_type": "execute_result"
    }
   ],
   "source": [
    "loan_data.head()"
   ]
  },
  {
   "cell_type": "code",
   "execution_count": 47,
   "id": "893fc404-f75d-4793-9808-ade48ab5050d",
   "metadata": {},
   "outputs": [],
   "source": [
    "# cleaned and filtered data to csv\n",
    "loan_data.to_csv('clean_loan_data.csv', index = False)"
   ]
  },
  {
   "cell_type": "markdown",
   "id": "6e2d1e99-1eec-4d17-b4b9-81f026f089bd",
   "metadata": {},
   "source": [
    "## IV. Model Evaluation And Validation\n",
    "### Machine Learning Algorithm Fitting\n",
    "In this part, now that we have cleaned the dataset and encoded the variable with dummy encoding to process categorical data, let's dive in the first machine learning algorithm that we will try to use on the data set. But before, let's see the result of our work on the dataset."
   ]
  },
  {
   "cell_type": "code",
   "execution_count": 48,
   "id": "af4ea8a3-0fc1-472a-9708-84e0c237e3d3",
   "metadata": {},
   "outputs": [],
   "source": [
    "loan_data = pd.read_csv('clean_loan_data.csv')"
   ]
  },
  {
   "cell_type": "code",
   "execution_count": 49,
   "id": "0a172387-73d7-4f21-83d5-9d63379c9030",
   "metadata": {},
   "outputs": [
    {
     "data": {
      "text/html": [
       "<div>\n",
       "<style scoped>\n",
       "    .dataframe tbody tr th:only-of-type {\n",
       "        vertical-align: middle;\n",
       "    }\n",
       "\n",
       "    .dataframe tbody tr th {\n",
       "        vertical-align: top;\n",
       "    }\n",
       "\n",
       "    .dataframe thead th {\n",
       "        text-align: right;\n",
       "    }\n",
       "</style>\n",
       "<table border=\"1\" class=\"dataframe\">\n",
       "  <thead>\n",
       "    <tr style=\"text-align: right;\">\n",
       "      <th></th>\n",
       "      <th>loan_amnt</th>\n",
       "      <th>int_rate</th>\n",
       "      <th>installment</th>\n",
       "      <th>annual_inc</th>\n",
       "      <th>loan_status</th>\n",
       "      <th>dti</th>\n",
       "      <th>delinq_2yrs</th>\n",
       "      <th>inq_last_6mths</th>\n",
       "      <th>open_acc</th>\n",
       "      <th>pub_rec</th>\n",
       "      <th>...</th>\n",
       "      <th>purpose_major_purchase</th>\n",
       "      <th>purpose_medical</th>\n",
       "      <th>purpose_moving</th>\n",
       "      <th>purpose_other</th>\n",
       "      <th>purpose_renewable_energy</th>\n",
       "      <th>purpose_small_business</th>\n",
       "      <th>purpose_vacation</th>\n",
       "      <th>purpose_wedding</th>\n",
       "      <th>term_ 36 months</th>\n",
       "      <th>term_ 60 months</th>\n",
       "    </tr>\n",
       "  </thead>\n",
       "  <tbody>\n",
       "    <tr>\n",
       "      <th>0</th>\n",
       "      <td>5000.0</td>\n",
       "      <td>10.65</td>\n",
       "      <td>162.87</td>\n",
       "      <td>24000.0</td>\n",
       "      <td>1</td>\n",
       "      <td>27.65</td>\n",
       "      <td>0.0</td>\n",
       "      <td>1.0</td>\n",
       "      <td>3.0</td>\n",
       "      <td>0.0</td>\n",
       "      <td>...</td>\n",
       "      <td>False</td>\n",
       "      <td>False</td>\n",
       "      <td>False</td>\n",
       "      <td>False</td>\n",
       "      <td>False</td>\n",
       "      <td>False</td>\n",
       "      <td>False</td>\n",
       "      <td>False</td>\n",
       "      <td>True</td>\n",
       "      <td>False</td>\n",
       "    </tr>\n",
       "    <tr>\n",
       "      <th>1</th>\n",
       "      <td>2500.0</td>\n",
       "      <td>15.27</td>\n",
       "      <td>59.83</td>\n",
       "      <td>30000.0</td>\n",
       "      <td>0</td>\n",
       "      <td>1.00</td>\n",
       "      <td>0.0</td>\n",
       "      <td>5.0</td>\n",
       "      <td>3.0</td>\n",
       "      <td>0.0</td>\n",
       "      <td>...</td>\n",
       "      <td>False</td>\n",
       "      <td>False</td>\n",
       "      <td>False</td>\n",
       "      <td>False</td>\n",
       "      <td>False</td>\n",
       "      <td>False</td>\n",
       "      <td>False</td>\n",
       "      <td>False</td>\n",
       "      <td>False</td>\n",
       "      <td>True</td>\n",
       "    </tr>\n",
       "    <tr>\n",
       "      <th>2</th>\n",
       "      <td>2400.0</td>\n",
       "      <td>15.96</td>\n",
       "      <td>84.33</td>\n",
       "      <td>12252.0</td>\n",
       "      <td>1</td>\n",
       "      <td>8.72</td>\n",
       "      <td>0.0</td>\n",
       "      <td>2.0</td>\n",
       "      <td>2.0</td>\n",
       "      <td>0.0</td>\n",
       "      <td>...</td>\n",
       "      <td>False</td>\n",
       "      <td>False</td>\n",
       "      <td>False</td>\n",
       "      <td>False</td>\n",
       "      <td>False</td>\n",
       "      <td>True</td>\n",
       "      <td>False</td>\n",
       "      <td>False</td>\n",
       "      <td>True</td>\n",
       "      <td>False</td>\n",
       "    </tr>\n",
       "    <tr>\n",
       "      <th>3</th>\n",
       "      <td>10000.0</td>\n",
       "      <td>13.49</td>\n",
       "      <td>339.31</td>\n",
       "      <td>49200.0</td>\n",
       "      <td>1</td>\n",
       "      <td>20.00</td>\n",
       "      <td>0.0</td>\n",
       "      <td>1.0</td>\n",
       "      <td>10.0</td>\n",
       "      <td>0.0</td>\n",
       "      <td>...</td>\n",
       "      <td>False</td>\n",
       "      <td>False</td>\n",
       "      <td>False</td>\n",
       "      <td>True</td>\n",
       "      <td>False</td>\n",
       "      <td>False</td>\n",
       "      <td>False</td>\n",
       "      <td>False</td>\n",
       "      <td>True</td>\n",
       "      <td>False</td>\n",
       "    </tr>\n",
       "    <tr>\n",
       "      <th>4</th>\n",
       "      <td>5000.0</td>\n",
       "      <td>7.90</td>\n",
       "      <td>156.46</td>\n",
       "      <td>36000.0</td>\n",
       "      <td>1</td>\n",
       "      <td>11.20</td>\n",
       "      <td>0.0</td>\n",
       "      <td>3.0</td>\n",
       "      <td>9.0</td>\n",
       "      <td>0.0</td>\n",
       "      <td>...</td>\n",
       "      <td>False</td>\n",
       "      <td>False</td>\n",
       "      <td>False</td>\n",
       "      <td>False</td>\n",
       "      <td>False</td>\n",
       "      <td>False</td>\n",
       "      <td>False</td>\n",
       "      <td>True</td>\n",
       "      <td>True</td>\n",
       "      <td>False</td>\n",
       "    </tr>\n",
       "    <tr>\n",
       "      <th>...</th>\n",
       "      <td>...</td>\n",
       "      <td>...</td>\n",
       "      <td>...</td>\n",
       "      <td>...</td>\n",
       "      <td>...</td>\n",
       "      <td>...</td>\n",
       "      <td>...</td>\n",
       "      <td>...</td>\n",
       "      <td>...</td>\n",
       "      <td>...</td>\n",
       "      <td>...</td>\n",
       "      <td>...</td>\n",
       "      <td>...</td>\n",
       "      <td>...</td>\n",
       "      <td>...</td>\n",
       "      <td>...</td>\n",
       "      <td>...</td>\n",
       "      <td>...</td>\n",
       "      <td>...</td>\n",
       "      <td>...</td>\n",
       "      <td>...</td>\n",
       "    </tr>\n",
       "    <tr>\n",
       "      <th>38607</th>\n",
       "      <td>2500.0</td>\n",
       "      <td>8.07</td>\n",
       "      <td>78.42</td>\n",
       "      <td>110000.0</td>\n",
       "      <td>1</td>\n",
       "      <td>11.33</td>\n",
       "      <td>0.0</td>\n",
       "      <td>0.0</td>\n",
       "      <td>13.0</td>\n",
       "      <td>0.0</td>\n",
       "      <td>...</td>\n",
       "      <td>False</td>\n",
       "      <td>False</td>\n",
       "      <td>False</td>\n",
       "      <td>False</td>\n",
       "      <td>False</td>\n",
       "      <td>False</td>\n",
       "      <td>False</td>\n",
       "      <td>False</td>\n",
       "      <td>True</td>\n",
       "      <td>False</td>\n",
       "    </tr>\n",
       "    <tr>\n",
       "      <th>38608</th>\n",
       "      <td>8500.0</td>\n",
       "      <td>10.28</td>\n",
       "      <td>275.38</td>\n",
       "      <td>18000.0</td>\n",
       "      <td>1</td>\n",
       "      <td>6.40</td>\n",
       "      <td>1.0</td>\n",
       "      <td>1.0</td>\n",
       "      <td>6.0</td>\n",
       "      <td>0.0</td>\n",
       "      <td>...</td>\n",
       "      <td>False</td>\n",
       "      <td>False</td>\n",
       "      <td>False</td>\n",
       "      <td>False</td>\n",
       "      <td>False</td>\n",
       "      <td>False</td>\n",
       "      <td>False</td>\n",
       "      <td>False</td>\n",
       "      <td>True</td>\n",
       "      <td>False</td>\n",
       "    </tr>\n",
       "    <tr>\n",
       "      <th>38609</th>\n",
       "      <td>5000.0</td>\n",
       "      <td>8.07</td>\n",
       "      <td>156.84</td>\n",
       "      <td>100000.0</td>\n",
       "      <td>1</td>\n",
       "      <td>2.30</td>\n",
       "      <td>0.0</td>\n",
       "      <td>0.0</td>\n",
       "      <td>11.0</td>\n",
       "      <td>0.0</td>\n",
       "      <td>...</td>\n",
       "      <td>False</td>\n",
       "      <td>False</td>\n",
       "      <td>False</td>\n",
       "      <td>False</td>\n",
       "      <td>False</td>\n",
       "      <td>False</td>\n",
       "      <td>False</td>\n",
       "      <td>False</td>\n",
       "      <td>True</td>\n",
       "      <td>False</td>\n",
       "    </tr>\n",
       "    <tr>\n",
       "      <th>38610</th>\n",
       "      <td>5000.0</td>\n",
       "      <td>7.43</td>\n",
       "      <td>155.38</td>\n",
       "      <td>200000.0</td>\n",
       "      <td>1</td>\n",
       "      <td>3.72</td>\n",
       "      <td>0.0</td>\n",
       "      <td>0.0</td>\n",
       "      <td>17.0</td>\n",
       "      <td>0.0</td>\n",
       "      <td>...</td>\n",
       "      <td>False</td>\n",
       "      <td>False</td>\n",
       "      <td>False</td>\n",
       "      <td>True</td>\n",
       "      <td>False</td>\n",
       "      <td>False</td>\n",
       "      <td>False</td>\n",
       "      <td>False</td>\n",
       "      <td>True</td>\n",
       "      <td>False</td>\n",
       "    </tr>\n",
       "    <tr>\n",
       "      <th>38611</th>\n",
       "      <td>7500.0</td>\n",
       "      <td>13.75</td>\n",
       "      <td>255.43</td>\n",
       "      <td>22000.0</td>\n",
       "      <td>1</td>\n",
       "      <td>14.29</td>\n",
       "      <td>1.0</td>\n",
       "      <td>0.0</td>\n",
       "      <td>7.0</td>\n",
       "      <td>0.0</td>\n",
       "      <td>...</td>\n",
       "      <td>False</td>\n",
       "      <td>False</td>\n",
       "      <td>False</td>\n",
       "      <td>False</td>\n",
       "      <td>False</td>\n",
       "      <td>False</td>\n",
       "      <td>False</td>\n",
       "      <td>False</td>\n",
       "      <td>True</td>\n",
       "      <td>False</td>\n",
       "    </tr>\n",
       "  </tbody>\n",
       "</table>\n",
       "<p>38612 rows × 37 columns</p>\n",
       "</div>"
      ],
      "text/plain": [
       "       loan_amnt  int_rate  installment  annual_inc  loan_status    dti  \\\n",
       "0         5000.0     10.65       162.87     24000.0            1  27.65   \n",
       "1         2500.0     15.27        59.83     30000.0            0   1.00   \n",
       "2         2400.0     15.96        84.33     12252.0            1   8.72   \n",
       "3        10000.0     13.49       339.31     49200.0            1  20.00   \n",
       "4         5000.0      7.90       156.46     36000.0            1  11.20   \n",
       "...          ...       ...          ...         ...          ...    ...   \n",
       "38607     2500.0      8.07        78.42    110000.0            1  11.33   \n",
       "38608     8500.0     10.28       275.38     18000.0            1   6.40   \n",
       "38609     5000.0      8.07       156.84    100000.0            1   2.30   \n",
       "38610     5000.0      7.43       155.38    200000.0            1   3.72   \n",
       "38611     7500.0     13.75       255.43     22000.0            1  14.29   \n",
       "\n",
       "       delinq_2yrs  inq_last_6mths  open_acc  pub_rec  ...  \\\n",
       "0              0.0             1.0       3.0      0.0  ...   \n",
       "1              0.0             5.0       3.0      0.0  ...   \n",
       "2              0.0             2.0       2.0      0.0  ...   \n",
       "3              0.0             1.0      10.0      0.0  ...   \n",
       "4              0.0             3.0       9.0      0.0  ...   \n",
       "...            ...             ...       ...      ...  ...   \n",
       "38607          0.0             0.0      13.0      0.0  ...   \n",
       "38608          1.0             1.0       6.0      0.0  ...   \n",
       "38609          0.0             0.0      11.0      0.0  ...   \n",
       "38610          0.0             0.0      17.0      0.0  ...   \n",
       "38611          1.0             0.0       7.0      0.0  ...   \n",
       "\n",
       "       purpose_major_purchase  purpose_medical  purpose_moving  purpose_other  \\\n",
       "0                       False            False           False          False   \n",
       "1                       False            False           False          False   \n",
       "2                       False            False           False          False   \n",
       "3                       False            False           False           True   \n",
       "4                       False            False           False          False   \n",
       "...                       ...              ...             ...            ...   \n",
       "38607                   False            False           False          False   \n",
       "38608                   False            False           False          False   \n",
       "38609                   False            False           False          False   \n",
       "38610                   False            False           False           True   \n",
       "38611                   False            False           False          False   \n",
       "\n",
       "       purpose_renewable_energy  purpose_small_business  purpose_vacation  \\\n",
       "0                         False                   False             False   \n",
       "1                         False                   False             False   \n",
       "2                         False                    True             False   \n",
       "3                         False                   False             False   \n",
       "4                         False                   False             False   \n",
       "...                         ...                     ...               ...   \n",
       "38607                     False                   False             False   \n",
       "38608                     False                   False             False   \n",
       "38609                     False                   False             False   \n",
       "38610                     False                   False             False   \n",
       "38611                     False                   False             False   \n",
       "\n",
       "       purpose_wedding  term_ 36 months  term_ 60 months  \n",
       "0                False             True            False  \n",
       "1                False            False             True  \n",
       "2                False             True            False  \n",
       "3                False             True            False  \n",
       "4                 True             True            False  \n",
       "...                ...              ...              ...  \n",
       "38607            False             True            False  \n",
       "38608            False             True            False  \n",
       "38609            False             True            False  \n",
       "38610            False             True            False  \n",
       "38611            False             True            False  \n",
       "\n",
       "[38612 rows x 37 columns]"
      ]
     },
     "execution_count": 49,
     "metadata": {},
     "output_type": "execute_result"
    }
   ],
   "source": [
    "loan_data"
   ]
  },
  {
   "cell_type": "code",
   "execution_count": 50,
   "id": "25180978-6a93-47f0-ae66-a721fd43eed4",
   "metadata": {},
   "outputs": [
    {
     "name": "stdout",
     "output_type": "stream",
     "text": [
      "<class 'pandas.core.frame.DataFrame'>\n",
      "RangeIndex: 38612 entries, 0 to 38611\n",
      "Data columns (total 37 columns):\n",
      " #   Column                               Non-Null Count  Dtype  \n",
      "---  ------                               --------------  -----  \n",
      " 0   loan_amnt                            38612 non-null  float64\n",
      " 1   int_rate                             38612 non-null  float64\n",
      " 2   installment                          38612 non-null  float64\n",
      " 3   annual_inc                           38612 non-null  float64\n",
      " 4   loan_status                          38612 non-null  int64  \n",
      " 5   dti                                  38612 non-null  float64\n",
      " 6   delinq_2yrs                          38612 non-null  float64\n",
      " 7   inq_last_6mths                       38612 non-null  float64\n",
      " 8   open_acc                             38612 non-null  float64\n",
      " 9   pub_rec                              38612 non-null  float64\n",
      " 10  revol_bal                            38612 non-null  float64\n",
      " 11  revol_util                           38612 non-null  float64\n",
      " 12  total_acc                            38612 non-null  float64\n",
      " 13  home_ownership_MORTGAGE              38612 non-null  bool   \n",
      " 14  home_ownership_NONE                  38612 non-null  bool   \n",
      " 15  home_ownership_OTHER                 38612 non-null  bool   \n",
      " 16  home_ownership_OWN                   38612 non-null  bool   \n",
      " 17  home_ownership_RENT                  38612 non-null  bool   \n",
      " 18  verification_status_Not Verified     38612 non-null  bool   \n",
      " 19  verification_status_Source Verified  38612 non-null  bool   \n",
      " 20  verification_status_Verified         38612 non-null  bool   \n",
      " 21  purpose_car                          38612 non-null  bool   \n",
      " 22  purpose_credit_card                  38612 non-null  bool   \n",
      " 23  purpose_debt_consolidation           38612 non-null  bool   \n",
      " 24  purpose_educational                  38612 non-null  bool   \n",
      " 25  purpose_home_improvement             38612 non-null  bool   \n",
      " 26  purpose_house                        38612 non-null  bool   \n",
      " 27  purpose_major_purchase               38612 non-null  bool   \n",
      " 28  purpose_medical                      38612 non-null  bool   \n",
      " 29  purpose_moving                       38612 non-null  bool   \n",
      " 30  purpose_other                        38612 non-null  bool   \n",
      " 31  purpose_renewable_energy             38612 non-null  bool   \n",
      " 32  purpose_small_business               38612 non-null  bool   \n",
      " 33  purpose_vacation                     38612 non-null  bool   \n",
      " 34  purpose_wedding                      38612 non-null  bool   \n",
      " 35  term_ 36 months                      38612 non-null  bool   \n",
      " 36  term_ 60 months                      38612 non-null  bool   \n",
      "dtypes: bool(24), float64(12), int64(1)\n",
      "memory usage: 4.7 MB\n"
     ]
    }
   ],
   "source": [
    "loan_data.info()"
   ]
  },
  {
   "cell_type": "markdown",
   "id": "a89f5391-23b0-4933-819a-9216002e2ecc",
   "metadata": {},
   "source": [
    "### Evaluation Benchmark And Error Metrics\n",
    "We talked about the need of a conservative evaluation of the default rate. We must also keep in mind that there is a strong imbalance with the target category of loan repayment in the dataset, because about 6 out of 7 loans are repaid. Meaning that we could lend money all the time (always predicting that the borrower would repay) and be right about 85.71% of the time that the loan would be repaid, but that would mean that the model would not be profitable. Say we lend \\$1000 at 10% interest, we would expect a return of \\$100 on each loan. But if we run the experiment 7 times, we would earn \\$600 (6 x \\$100) and lose \\$1000 (the defaulter), we are left with a \\$400 loss. Hardly a profitable enterprise. The benchmark needs to encompass the weight of the defaulter and the optimization between the true positive rate (good borrowers) and the false positive rate (bad borrowers). This implies that we need to ensure a viable machine learning model and predict a higher percentage of potential defaulters in order to avoid lending to them. The benchmark must beat the 85.71% average loan repayment. Although “money is left on the table”, a conservative investor would prefer a steady return on her investment than suffer the 1 in 7 loss. "
   ]
  },
  {
   "cell_type": "markdown",
   "id": "a3a52b5b-ae88-4142-9d17-41557762af6e",
   "metadata": {},
   "source": [
    "In the markdown cell above, we talked about the class imbalance and that it could lead to an unprofitable model. If we were to lend to all borrowers, we would most likely lose 1 in 7 times and take a larger loss in that one time than in the 6 others' interest. In the code below, we check the true positive and false positive rate."
   ]
  },
  {
   "cell_type": "code",
   "execution_count": 51,
   "id": "b6932b95-0e28-474c-a947-74cd00b75c42",
   "metadata": {},
   "outputs": [
    {
     "name": "stdout",
     "output_type": "stream",
     "text": [
      "1.0\n",
      "1.0\n"
     ]
    }
   ],
   "source": [
    "predictions = pd.Series(np.ones(loan_data.shape[0]))\n",
    "\n",
    "false_positive_filter = (predictions == 1) & (loan_data['loan_status'] == 0)\n",
    "false_positive = len(predictions[false_positive_filter])\n",
    "\n",
    "true_positive_filter = (predictions == 1) & (loan_data['loan_status'] == 1)\n",
    "true_positive = len(predictions[true_positive_filter])\n",
    "\n",
    "false_negative_filter = (predictions == 0) & (loan_data['loan_status'] == 1)\n",
    "false_negative = len(predictions[false_negative_filter])\n",
    "\n",
    "true_negative_filter = (predictions == 0) & (loan_data['loan_status'] == 0)\n",
    "true_negative = len(predictions[true_negative_filter])\n",
    "\n",
    "true_positive_rate = true_positive / (true_positive + false_negative)\n",
    "false_positive_rate = false_positive / (false_positive + true_negative)\n",
    "\n",
    "print (float(true_positive_rate))\n",
    "print (float(false_positive_rate))"
   ]
  },
  {
   "cell_type": "code",
   "execution_count": 52,
   "id": "c66ea0e6-6c5a-4e1e-afb1-bcc17f1ad82d",
   "metadata": {},
   "outputs": [
    {
     "data": {
      "text/plain": [
       "0.8597586242618875"
      ]
     },
     "execution_count": 52,
     "metadata": {},
     "output_type": "execute_result"
    }
   ],
   "source": [
    "accuracy = float(true_positive + true_negative)/float(true_positive + false_positive+ false_negative + true_negative)\n",
    "accuracy"
   ]
  },
  {
   "cell_type": "code",
   "execution_count": 53,
   "id": "df17fa82-cd7b-4594-baf2-9a6ecdaae697",
   "metadata": {},
   "outputs": [
    {
     "data": {
      "text/plain": [
       "0.8597586242618875"
      ]
     },
     "execution_count": 53,
     "metadata": {},
     "output_type": "execute_result"
    }
   ],
   "source": [
    "precision = float(true_positive)/float(true_positive + false_positive)\n",
    "precision"
   ]
  },
  {
   "cell_type": "markdown",
   "id": "967a05fd-da8a-4e08-af90-6ad09b6669f4",
   "metadata": {},
   "source": [
    "We got 100% of the true positive loans but also 100% or the false positive because we predicted that all loans would be paid off. As a reminder, the pie chart below is a different way to visualize the class imbalance on the dataset. "
   ]
  },
  {
   "cell_type": "code",
   "execution_count": 54,
   "id": "93ab7060-77ca-42bb-8a07-cf34ab715321",
   "metadata": {},
   "outputs": [
    {
     "data": {
      "image/png": "[encoded data removed]",
      "text/plain": [
       "<Figure size 400x400 with 1 Axes>"
      ]
     },
     "metadata": {},
     "output_type": "display_data"
    }
   ],
   "source": [
    "# Data to plot\n",
    "labels = 'False Positive', 'True Positive'\n",
    "sizes = [1-precision, precision]\n",
    "colors = ['lightcoral', 'lightblue'] \n",
    "# Plot\n",
    "plt.figure(figsize=(4,4))\n",
    "plt.pie(sizes, colors=colors, autopct='%1.2f%%', shadow=False, startangle=0)\n",
    "plt.title('Precision Of Lending', fontsize=12) \n",
    "plt.legend(labels, loc='lower left', fontsize=10)\n",
    "plt.axis('equal')\n",
    "plt.show()"
   ]
  },
  {
   "cell_type": "markdown",
   "id": "b4f168f5-fb54-4cca-a0fd-ce26413bbc74",
   "metadata": {},
   "source": [
    "### Logistic Regression Classification"
   ]
  },
  {
   "cell_type": "markdown",
   "id": "c587e5ae-80a9-4781-9958-f13e41e3fe35",
   "metadata": {},
   "source": [
    "Let's try to improve the predictions with logistic regression. "
   ]
  },
  {
   "cell_type": "code",
   "execution_count": 55,
   "id": "e83764fe-8050-4f91-a429-9d99288f249d",
   "metadata": {},
   "outputs": [
    {
     "name": "stderr",
     "output_type": "stream",
     "text": [
      "C:\\Users\\user\\AppData\\Local\\Programs\\Python\\Python313\\Lib\\site-packages\\sklearn\\linear_model\\_logistic.py:465: ConvergenceWarning: lbfgs failed to converge (status=1):\n",
      "STOP: TOTAL NO. of ITERATIONS REACHED LIMIT.\n",
      "\n",
      "Increase the number of iterations (max_iter) or scale the data as shown in:\n",
      "    https://scikit-learn.org/stable/modules/preprocessing.html\n",
      "Please also refer to the documentation for alternative solver options:\n",
      "    https://scikit-learn.org/stable/modules/linear_model.html#logistic-regression\n",
      "  n_iter_i = _check_optimize_result(\n"
     ]
    }
   ],
   "source": [
    "from sklearn.linear_model import LogisticRegression\n",
    "lr = LogisticRegression()\n",
    "\n",
    "cols = loan_data.columns\n",
    "train_cols = cols.drop('loan_status')\n",
    "\n",
    "features = loan_data[train_cols]\n",
    "\n",
    "target = loan_data['loan_status']\n",
    "\n",
    "lr.fit(features, target)\n",
    "predictions = lr.predict(features)"
   ]
  },
  {
   "cell_type": "markdown",
   "id": "c1e7b866-95b2-4900-8369-e95e2b99f9d2",
   "metadata": {},
   "source": [
    "The previous predictions are overfitting, we need to cross-validate them."
   ]
  },
  {
   "cell_type": "code",
   "execution_count": 56,
   "id": "d6c77b6e-8ed3-4bb0-86fe-851388fed874",
   "metadata": {},
   "outputs": [
    {
     "name": "stderr",
     "output_type": "stream",
     "text": [
      "C:\\Users\\user\\AppData\\Local\\Programs\\Python\\Python313\\Lib\\site-packages\\sklearn\\linear_model\\_logistic.py:465: ConvergenceWarning: lbfgs failed to converge (status=1):\n",
      "STOP: TOTAL NO. of ITERATIONS REACHED LIMIT.\n",
      "\n",
      "Increase the number of iterations (max_iter) or scale the data as shown in:\n",
      "    https://scikit-learn.org/stable/modules/preprocessing.html\n",
      "Please also refer to the documentation for alternative solver options:\n",
      "    https://scikit-learn.org/stable/modules/linear_model.html#logistic-regression\n",
      "  n_iter_i = _check_optimize_result(\n",
      "C:\\Users\\user\\AppData\\Local\\Programs\\Python\\Python313\\Lib\\site-packages\\sklearn\\linear_model\\_logistic.py:465: ConvergenceWarning: lbfgs failed to converge (status=1):\n",
      "STOP: TOTAL NO. of ITERATIONS REACHED LIMIT.\n",
      "\n",
      "Increase the number of iterations (max_iter) or scale the data as shown in:\n",
      "    https://scikit-learn.org/stable/modules/preprocessing.html\n",
      "Please also refer to the documentation for alternative solver options:\n",
      "    https://scikit-learn.org/stable/modules/linear_model.html#logistic-regression\n",
      "  n_iter_i = _check_optimize_result(\n",
      "C:\\Users\\user\\AppData\\Local\\Programs\\Python\\Python313\\Lib\\site-packages\\sklearn\\linear_model\\_logistic.py:465: ConvergenceWarning: lbfgs failed to converge (status=1):\n",
      "STOP: TOTAL NO. of ITERATIONS REACHED LIMIT.\n",
      "\n",
      "Increase the number of iterations (max_iter) or scale the data as shown in:\n",
      "    https://scikit-learn.org/stable/modules/preprocessing.html\n",
      "Please also refer to the documentation for alternative solver options:\n",
      "    https://scikit-learn.org/stable/modules/linear_model.html#logistic-regression\n",
      "  n_iter_i = _check_optimize_result(\n",
      "C:\\Users\\user\\AppData\\Local\\Programs\\Python\\Python313\\Lib\\site-packages\\sklearn\\linear_model\\_logistic.py:465: ConvergenceWarning: lbfgs failed to converge (status=1):\n",
      "STOP: TOTAL NO. of ITERATIONS REACHED LIMIT.\n",
      "\n",
      "Increase the number of iterations (max_iter) or scale the data as shown in:\n",
      "    https://scikit-learn.org/stable/modules/preprocessing.html\n",
      "Please also refer to the documentation for alternative solver options:\n",
      "    https://scikit-learn.org/stable/modules/linear_model.html#logistic-regression\n",
      "  n_iter_i = _check_optimize_result(\n",
      "C:\\Users\\user\\AppData\\Local\\Programs\\Python\\Python313\\Lib\\site-packages\\sklearn\\linear_model\\_logistic.py:465: ConvergenceWarning: lbfgs failed to converge (status=1):\n",
      "STOP: TOTAL NO. of ITERATIONS REACHED LIMIT.\n",
      "\n",
      "Increase the number of iterations (max_iter) or scale the data as shown in:\n",
      "    https://scikit-learn.org/stable/modules/preprocessing.html\n",
      "Please also refer to the documentation for alternative solver options:\n",
      "    https://scikit-learn.org/stable/modules/linear_model.html#logistic-regression\n",
      "  n_iter_i = _check_optimize_result(\n"
     ]
    }
   ],
   "source": [
    "'''from sklearn.cross_validation import cross_val_predict, KFold\n",
    "lr = LogisticRegression()\n",
    "kf = KFold(features.shape[0], random_state=42)\n",
    "predictions = cross_val_predict(lr, features, target, cv=kf)\n",
    "predictions = pd.Series(predictions)'''\n",
    "\n",
    "from sklearn.model_selection import cross_val_predict, KFold\n",
    "from sklearn.linear_model import LogisticRegression\n",
    "import pandas as pd\n",
    "\n",
    "lr = LogisticRegression()\n",
    "kf = KFold(n_splits=5, shuffle=True, random_state=42)\n",
    "predictions = cross_val_predict(lr, features, target, cv=kf)\n",
    "predictions = pd.Series(predictions)\n"
   ]
  },
  {
   "cell_type": "code",
   "execution_count": 57,
   "id": "b0ecccba-1cfc-4b3f-abd6-f2ab3bec5617",
   "metadata": {},
   "outputs": [
    {
     "name": "stdout",
     "output_type": "stream",
     "text": [
      "0.9993975359219207\n",
      "0.9990766389658357\n"
     ]
    }
   ],
   "source": [
    "false_positive_filter = (predictions == 1) & (loan_data['loan_status'] == 0)\n",
    "false_positive = len(predictions[false_positive_filter])\n",
    "\n",
    "true_positive_filter = (predictions == 1) & (loan_data['loan_status'] == 1)\n",
    "true_positive = len(predictions[true_positive_filter])\n",
    "\n",
    "false_negative_filter = (predictions == 0) & (loan_data['loan_status'] == 1)\n",
    "false_negative = len(predictions[false_negative_filter])\n",
    "\n",
    "true_negative_filter = (predictions == 0) & (loan_data['loan_status'] == 0)\n",
    "true_negative = len(predictions[true_negative_filter])\n",
    "\n",
    "true_positive_rate = float(true_positive)/float((true_positive + false_negative))\n",
    "false_positive_rate = float(false_positive)/float((false_positive + true_negative))\n",
    "\n",
    "print (float(true_positive_rate))\n",
    "print (float(false_positive_rate))"
   ]
  },
  {
   "cell_type": "code",
   "execution_count": 58,
   "id": "751ec0f9-e198-4961-9268-081e52130185",
   "metadata": {},
   "outputs": [
    {
     "data": {
      "text/plain": [
       "0.8597973410734185"
      ]
     },
     "execution_count": 58,
     "metadata": {},
     "output_type": "execute_result"
    }
   ],
   "source": [
    "precision = float(true_positive)/float(true_positive + false_positive)\n",
    "precision"
   ]
  },
  {
   "cell_type": "code",
   "execution_count": 59,
   "id": "59fffb50-877f-4c8b-a117-8c375829813c",
   "metadata": {},
   "outputs": [
    {
     "data": {
      "image/png": "[encoded data removed]",
      "text/plain": [
       "<Figure size 400x400 with 1 Axes>"
      ]
     },
     "metadata": {},
     "output_type": "display_data"
    }
   ],
   "source": [
    " # Data to plot\n",
    "labels = 'False Positive', 'True Positive'\n",
    "sizes = [1-precision, precision]\n",
    "colors = ['lightcoral', 'lightblue'] \n",
    "# Plot\n",
    "plt.figure(figsize=(4,4))\n",
    "plt.pie(sizes, colors=colors, autopct='%1.2f%%', shadow=False, startangle=0)\n",
    "plt.title('Precision With Simple Logistic Regression', fontsize=12) \n",
    "plt.legend(labels, loc='lower left', fontsize=10)\n",
    "plt.axis('equal')\n",
    "plt.show()"
   ]
  },
  {
   "cell_type": "code",
   "execution_count": 60,
   "id": "d49dd757-8d85-4fd1-bf9d-0e935bbf6dc5",
   "metadata": {},
   "outputs": [
    {
     "data": {
      "text/plain": [
       "0.859370143996685"
      ]
     },
     "execution_count": 60,
     "metadata": {},
     "output_type": "execute_result"
    }
   ],
   "source": [
    "accuracy = float(true_positive + true_negative)/float(true_positive + false_positive + false_negative + true_negative)\n",
    "accuracy"
   ]
  },
  {
   "cell_type": "markdown",
   "id": "fce441fc-8650-40a4-bf41-9662227a9715",
   "metadata": {},
   "source": [
    "We are still getting a abnormaly high number, which means the model is still predicting that all the loans will be paid off."
   ]
  },
  {
   "cell_type": "markdown",
   "id": "ceffa64f-2162-470e-a3d3-405231a4921a",
   "metadata": {},
   "source": [
    "### Weighting Errors To Improve Performance\n",
    "We will add weight to mistakes in order to penalize the model when it overfits, that way we can improve the performance of the model."
   ]
  },
  {
   "cell_type": "code",
   "execution_count": 61,
   "id": "5dc0e7bb-dc5c-4363-ab31-965d5e1510c5",
   "metadata": {},
   "outputs": [
    {
     "name": "stderr",
     "output_type": "stream",
     "text": [
      "C:\\Users\\user\\AppData\\Local\\Programs\\Python\\Python313\\Lib\\site-packages\\sklearn\\linear_model\\_logistic.py:465: ConvergenceWarning: lbfgs failed to converge (status=1):\n",
      "STOP: TOTAL NO. of ITERATIONS REACHED LIMIT.\n",
      "\n",
      "Increase the number of iterations (max_iter) or scale the data as shown in:\n",
      "    https://scikit-learn.org/stable/modules/preprocessing.html\n",
      "Please also refer to the documentation for alternative solver options:\n",
      "    https://scikit-learn.org/stable/modules/linear_model.html#logistic-regression\n",
      "  n_iter_i = _check_optimize_result(\n",
      "C:\\Users\\user\\AppData\\Local\\Programs\\Python\\Python313\\Lib\\site-packages\\sklearn\\linear_model\\_logistic.py:465: ConvergenceWarning: lbfgs failed to converge (status=1):\n",
      "STOP: TOTAL NO. of ITERATIONS REACHED LIMIT.\n",
      "\n",
      "Increase the number of iterations (max_iter) or scale the data as shown in:\n",
      "    https://scikit-learn.org/stable/modules/preprocessing.html\n",
      "Please also refer to the documentation for alternative solver options:\n",
      "    https://scikit-learn.org/stable/modules/linear_model.html#logistic-regression\n",
      "  n_iter_i = _check_optimize_result(\n",
      "C:\\Users\\user\\AppData\\Local\\Programs\\Python\\Python313\\Lib\\site-packages\\sklearn\\linear_model\\_logistic.py:465: ConvergenceWarning: lbfgs failed to converge (status=1):\n",
      "STOP: TOTAL NO. of ITERATIONS REACHED LIMIT.\n",
      "\n",
      "Increase the number of iterations (max_iter) or scale the data as shown in:\n",
      "    https://scikit-learn.org/stable/modules/preprocessing.html\n",
      "Please also refer to the documentation for alternative solver options:\n",
      "    https://scikit-learn.org/stable/modules/linear_model.html#logistic-regression\n",
      "  n_iter_i = _check_optimize_result(\n",
      "C:\\Users\\user\\AppData\\Local\\Programs\\Python\\Python313\\Lib\\site-packages\\sklearn\\linear_model\\_logistic.py:465: ConvergenceWarning: lbfgs failed to converge (status=1):\n",
      "STOP: TOTAL NO. of ITERATIONS REACHED LIMIT.\n",
      "\n",
      "Increase the number of iterations (max_iter) or scale the data as shown in:\n",
      "    https://scikit-learn.org/stable/modules/preprocessing.html\n",
      "Please also refer to the documentation for alternative solver options:\n",
      "    https://scikit-learn.org/stable/modules/linear_model.html#logistic-regression\n",
      "  n_iter_i = _check_optimize_result(\n"
     ]
    },
    {
     "name": "stdout",
     "output_type": "stream",
     "text": [
      "True Positive Rate: 0.5435129680392806\n",
      "False Positive Rate: 0.36140350877192984\n"
     ]
    },
    {
     "name": "stderr",
     "output_type": "stream",
     "text": [
      "C:\\Users\\user\\AppData\\Local\\Programs\\Python\\Python313\\Lib\\site-packages\\sklearn\\linear_model\\_logistic.py:465: ConvergenceWarning: lbfgs failed to converge (status=1):\n",
      "STOP: TOTAL NO. of ITERATIONS REACHED LIMIT.\n",
      "\n",
      "Increase the number of iterations (max_iter) or scale the data as shown in:\n",
      "    https://scikit-learn.org/stable/modules/preprocessing.html\n",
      "Please also refer to the documentation for alternative solver options:\n",
      "    https://scikit-learn.org/stable/modules/linear_model.html#logistic-regression\n",
      "  n_iter_i = _check_optimize_result(\n"
     ]
    }
   ],
   "source": [
    "'''lr = LogisticRegression(class_weight=\"balanced\")\n",
    "kf = KFold(features.shape[0], random_state=1)\n",
    "predictions = cross_val_predict(lr, features, target, cv=kf)\n",
    "predictions = pd.Series(predictions)\n",
    "\n",
    "\n",
    "false_positive_filter = (predictions == 1) & (loan_data['loan_status'] == 0)\n",
    "false_positive = len(predictions[false_positive_filter])\n",
    "\n",
    "true_positive_filter = (predictions == 1) & (loan_data['loan_status'] == 1)\n",
    "true_positive = len(predictions[true_positive_filter])\n",
    "\n",
    "false_negative_filter = (predictions == 0) & (loan_data['loan_status'] == 1)\n",
    "false_negative = len(predictions[false_negative_filter])\n",
    "\n",
    "true_negative_filter = (predictions == 0) & (loan_data['loan_status'] == 0)\n",
    "true_negative = len(predictions[true_negative_filter])\n",
    "\n",
    "true_positive_rate = float(true_positive)/float((true_positive + false_negative))\n",
    "false_positive_rate = float(false_positive)/float((false_positive + true_negative))\n",
    "\n",
    "print(float(true_positive_rate))\n",
    "print(float(false_positive_rate))'''\n",
    "\n",
    "\n",
    "from sklearn.model_selection import cross_val_predict, KFold\n",
    "from sklearn.linear_model import LogisticRegression\n",
    "import pandas as pd\n",
    "\n",
    "# Initialize Logistic Regression with class balancing\n",
    "lr = LogisticRegression(class_weight=\"balanced\")\n",
    "\n",
    "# Set up KFold with the correct parameters\n",
    "kf = KFold(n_splits=5, shuffle=True, random_state=1)\n",
    "\n",
    "# Perform cross-validation and predictions\n",
    "predictions = cross_val_predict(lr, features, target, cv=kf)\n",
    "predictions = pd.Series(predictions)\n",
    "\n",
    "# Evaluate the model's performance\n",
    "false_positive_filter = (predictions == 1) & (loan_data['loan_status'] == 0)\n",
    "false_positive = len(predictions[false_positive_filter])\n",
    "\n",
    "true_positive_filter = (predictions == 1) & (loan_data['loan_status'] == 1)\n",
    "true_positive = len(predictions[true_positive_filter])\n",
    "\n",
    "false_negative_filter = (predictions == 0) & (loan_data['loan_status'] == 1)\n",
    "false_negative = len(predictions[false_negative_filter])\n",
    "\n",
    "true_negative_filter = (predictions == 0) & (loan_data['loan_status'] == 0)\n",
    "true_negative = len(predictions[true_negative_filter])\n",
    "\n",
    "true_positive_rate = float(true_positive) / float((true_positive + false_negative))\n",
    "false_positive_rate = float(false_positive) / float((false_positive + true_negative))\n",
    "\n",
    "print(\"True Positive Rate:\", true_positive_rate)\n",
    "print(\"False Positive Rate:\", false_positive_rate)"
   ]
  },
  {
   "cell_type": "code",
   "execution_count": 62,
   "id": "1b0028a0-81de-4f95-bd83-0677dec47dd1",
   "metadata": {},
   "outputs": [
    {
     "data": {
      "text/plain": [
       "0.5568476121413032"
      ]
     },
     "execution_count": 62,
     "metadata": {},
     "output_type": "execute_result"
    }
   ],
   "source": [
    "accuracy = float(true_positive + true_negative)/float((true_positive + false_positive+ false_negative + true_negative))\n",
    "accuracy"
   ]
  },
  {
   "cell_type": "code",
   "execution_count": 63,
   "id": "24aaf078-b808-415c-9c02-6a8098470a40",
   "metadata": {},
   "outputs": [
    {
     "data": {
      "text/plain": [
       "0.90215"
      ]
     },
     "execution_count": 63,
     "metadata": {},
     "output_type": "execute_result"
    }
   ],
   "source": [
    "precision = float(true_positive)/float(true_positive + false_positive)\n",
    "precision"
   ]
  },
  {
   "cell_type": "code",
   "execution_count": 64,
   "id": "5c65736c-9215-4aa4-ae04-acb354620ae9",
   "metadata": {},
   "outputs": [
    {
     "data": {
      "image/png": "[encoded data removed]",
      "text/plain": [
       "<Figure size 400x400 with 1 Axes>"
      ]
     },
     "metadata": {},
     "output_type": "display_data"
    }
   ],
   "source": [
    "# Data to plot\n",
    "labels = 'False Positive', 'True Positive'\n",
    "sizes = [1-precision, precision]\n",
    "colors = ['lightcoral', 'lightblue'] \n",
    "# Plot\n",
    "plt.figure(figsize=(4,4))\n",
    "plt.pie(sizes, colors=colors, autopct='%1.2f%%', shadow=False, startangle=0)\n",
    "plt.title('Precision With Balanced Error-Weights', fontsize=12) \n",
    "plt.legend(labels, loc='lower left', fontsize=10)\n",
    "plt.axis('equal')\n",
    "plt.show()"
   ]
  },
  {
   "cell_type": "markdown",
   "id": "3744e23a-b346-4364-999a-9399804ddd42",
   "metadata": {},
   "source": [
    "By weighting the algorithm we went from 99.87% of false positive to 39.85%. This is a good divergence."
   ]
  },
  {
   "cell_type": "code",
   "execution_count": 65,
   "id": "a220ff59-cb13-4e33-89ca-3bd60bccbdf3",
   "metadata": {},
   "outputs": [
    {
     "name": "stderr",
     "output_type": "stream",
     "text": [
      "C:\\Users\\user\\AppData\\Local\\Programs\\Python\\Python313\\Lib\\site-packages\\sklearn\\linear_model\\_logistic.py:465: ConvergenceWarning: lbfgs failed to converge (status=1):\n",
      "STOP: TOTAL NO. of ITERATIONS REACHED LIMIT.\n",
      "\n",
      "Increase the number of iterations (max_iter) or scale the data as shown in:\n",
      "    https://scikit-learn.org/stable/modules/preprocessing.html\n",
      "Please also refer to the documentation for alternative solver options:\n",
      "    https://scikit-learn.org/stable/modules/linear_model.html#logistic-regression\n",
      "  n_iter_i = _check_optimize_result(\n",
      "C:\\Users\\user\\AppData\\Local\\Programs\\Python\\Python313\\Lib\\site-packages\\sklearn\\linear_model\\_logistic.py:465: ConvergenceWarning: lbfgs failed to converge (status=1):\n",
      "STOP: TOTAL NO. of ITERATIONS REACHED LIMIT.\n",
      "\n",
      "Increase the number of iterations (max_iter) or scale the data as shown in:\n",
      "    https://scikit-learn.org/stable/modules/preprocessing.html\n",
      "Please also refer to the documentation for alternative solver options:\n",
      "    https://scikit-learn.org/stable/modules/linear_model.html#logistic-regression\n",
      "  n_iter_i = _check_optimize_result(\n",
      "C:\\Users\\user\\AppData\\Local\\Programs\\Python\\Python313\\Lib\\site-packages\\sklearn\\linear_model\\_logistic.py:465: ConvergenceWarning: lbfgs failed to converge (status=1):\n",
      "STOP: TOTAL NO. of ITERATIONS REACHED LIMIT.\n",
      "\n",
      "Increase the number of iterations (max_iter) or scale the data as shown in:\n",
      "    https://scikit-learn.org/stable/modules/preprocessing.html\n",
      "Please also refer to the documentation for alternative solver options:\n",
      "    https://scikit-learn.org/stable/modules/linear_model.html#logistic-regression\n",
      "  n_iter_i = _check_optimize_result(\n",
      "C:\\Users\\user\\AppData\\Local\\Programs\\Python\\Python313\\Lib\\site-packages\\sklearn\\linear_model\\_logistic.py:465: ConvergenceWarning: lbfgs failed to converge (status=1):\n",
      "STOP: TOTAL NO. of ITERATIONS REACHED LIMIT.\n",
      "\n",
      "Increase the number of iterations (max_iter) or scale the data as shown in:\n",
      "    https://scikit-learn.org/stable/modules/preprocessing.html\n",
      "Please also refer to the documentation for alternative solver options:\n",
      "    https://scikit-learn.org/stable/modules/linear_model.html#logistic-regression\n",
      "  n_iter_i = _check_optimize_result(\n",
      "C:\\Users\\user\\AppData\\Local\\Programs\\Python\\Python313\\Lib\\site-packages\\sklearn\\linear_model\\_logistic.py:465: ConvergenceWarning: lbfgs failed to converge (status=1):\n",
      "STOP: TOTAL NO. of ITERATIONS REACHED LIMIT.\n",
      "\n",
      "Increase the number of iterations (max_iter) or scale the data as shown in:\n",
      "    https://scikit-learn.org/stable/modules/preprocessing.html\n",
      "Please also refer to the documentation for alternative solver options:\n",
      "    https://scikit-learn.org/stable/modules/linear_model.html#logistic-regression\n",
      "  n_iter_i = _check_optimize_result(\n"
     ]
    }
   ],
   "source": [
    "'''from sklearn.linear_model import LogisticRegression\n",
    "from sklearn.cross_validation import cross_val_predict\n",
    "\n",
    "cross_val_predict, KFold\n",
    "\n",
    "penalty = {0: 10,\n",
    "           1: 1\n",
    "          }\n",
    "\n",
    "lr = LogisticRegression(class_weight=penalty)\n",
    "kf = KFold(features.shape[0], random_state=42)\n",
    "predictions = cross_val_predict(lr, features, target, cv= kf)\n",
    "predictions = pd.Series(predictions)'''\n",
    "\n",
    "from sklearn.linear_model import LogisticRegression\n",
    "from sklearn.model_selection import cross_val_predict, KFold\n",
    "import pandas as pd\n",
    "\n",
    "# Define class weights\n",
    "penalty = {0: 10, 1: 1}\n",
    "\n",
    "# Initialize Logistic Regression with custom class weights\n",
    "lr = LogisticRegression(class_weight=penalty)\n",
    "\n",
    "# Set up KFold with correct parameters\n",
    "kf = KFold(n_splits=5, shuffle=True, random_state=42)\n",
    "\n",
    "# Perform cross-validation and predictions\n",
    "predictions = cross_val_predict(lr, features, target, cv=kf)\n",
    "predictions = pd.Series(predictions)\n"
   ]
  },
  {
   "cell_type": "code",
   "execution_count": null,
   "id": "c748590a-e2f4-4012-8c50-235bc0ac8579",
   "metadata": {},
   "outputs": [],
   "source": [
    "false_positive_filter = (predictions == 1) & (loan_data['loan_status'] == 0)\n",
    "false_positive = len(predictions[false_positive_filter])\n",
    "\n",
    "true_positive_filter = (predictions == 1) & (loan_data['loan_status'] == 1)\n",
    "true_positive = len(predictions[true_positive_filter])\n",
    "\n",
    "false_negative_filter = (predictions == 0) & (loan_data['loan_status'] == 1)\n",
    "false_negative = len(predictions[false_negative_filter])\n",
    "\n",
    "true_negative_filter = (predictions == 0) & (loan_data['loan_status'] == 0)\n",
    "true_negative = len(predictions[true_negative_filter])\n",
    "\n",
    "true_positive_rate = float(true_positive)/float((true_positive + false_negative))\n",
    "false_positive_rate = float(false_positive)/float((false_positive + true_negative))\n",
    "\n",
    "print(float(true_positive_rate))\n",
    "print(float(false_positive_rate))"
   ]
  },
  {
   "cell_type": "code",
   "execution_count": 67,
   "id": "42793307-6b29-4c9d-82d1-e06028013271",
   "metadata": {},
   "outputs": [
    {
     "data": {
      "text/plain": [
       "0.31554957008183987"
      ]
     },
     "execution_count": 67,
     "metadata": {},
     "output_type": "execute_result"
    }
   ],
   "source": [
    "accuracy = float(true_positive + true_negative)/float(true_positive + false_positive+ false_negative + true_negative)\n",
    "accuracy"
   ]
  },
  {
   "cell_type": "code",
   "execution_count": 68,
   "id": "19155fb2-726b-4207-ad9e-fabfdd6bf40c",
   "metadata": {},
   "outputs": [
    {
     "data": {
      "text/plain": [
       "0.9397167727686111"
      ]
     },
     "execution_count": 68,
     "metadata": {},
     "output_type": "execute_result"
    }
   ],
   "source": [
    "precision = float(true_positive)/float(true_positive + false_positive)\n",
    "precision"
   ]
  },
  {
   "cell_type": "code",
   "execution_count": 69,
   "id": "0a885f70-0823-4bca-8cd6-bdc7f09477df",
   "metadata": {},
   "outputs": [
    {
     "data": {
      "image/png": "[encoded data removed]",
      "text/plain": [
       "<Figure size 400x400 with 1 Axes>"
      ]
     },
     "metadata": {},
     "output_type": "display_data"
    }
   ],
   "source": [
    "# Data to plot\n",
    "labels = 'False Positive', 'True Positive'\n",
    "sizes = [1-precision, precision]\n",
    "colors = ['lightcoral', 'lightblue'] \n",
    "# Plot\n",
    "plt.figure(figsize=(4,4))\n",
    "plt.pie(sizes, colors=colors, autopct='%1.2f%%', shadow=False, startangle=0)\n",
    "plt.title('Precision With Manual Error-Weights', fontsize=12) \n",
    "plt.legend(labels, loc='lower left', fontsize=10)\n",
    "plt.axis('equal')\n",
    "plt.show()"
   ]
  },
  {
   "cell_type": "markdown",
   "id": "6d3d8fd5-4436-48ad-b29e-88810a9e0a5a",
   "metadata": {},
   "source": [
    "### Try Random Forest\n",
    "We try to fit the data with the random forest classifier of scikit-learn in order to increase the performance of our model. \n"
   ]
  },
  {
   "cell_type": "code",
   "execution_count": null,
   "id": "c770f91e-2dc9-432f-8ba2-a92c161e583b",
   "metadata": {},
   "outputs": [],
   "source": [
    "'''from sklearn.ensemble import RandomForestClassifier\n",
    "from sklearn.cross_validation import cross_val_predict\n",
    "\n",
    "rf = RandomForestClassifier(class_weight=\"balanced\", random_state=1)\n",
    "kf = KFold(features.shape[0], random_state=42)\n",
    "\n",
    "predictions = cross_val_predict(rf, features, target, cv=kf)\n",
    "predictions = pd.Series(predictions)'''\n",
    "from sklearn.ensemble import RandomForestClassifier\n",
    "from sklearn.model_selection import cross_val_predict, KFold\n",
    "import pandas as pd\n",
    "\n",
    "# Initialize Random Forest Classifier with balanced class weights\n",
    "rf = RandomForestClassifier(class_weight=\"balanced\", random_state=1)\n",
    "\n",
    "# Set up KFold with correct parameters\n",
    "kf = KFold(n_splits=5, shuffle=True, random_state=42)\n",
    "\n",
    "# Perform cross-validation and predictions\n",
    "predictions = cross_val_predict(rf, features, target, cv=kf)\n",
    "predictions = pd.Series(predictions)"
   ]
  },
  {
   "cell_type": "code",
   "execution_count": null,
   "id": "1a93cb1d-1db1-465d-baa9-8403e414d725",
   "metadata": {},
   "outputs": [],
   "source": [
    "false_positive_filter = (predictions == 1) & (loan_data['loan_status'] == 0)\n",
    "false_positive = len(predictions[false_positive_filter])\n",
    "\n",
    "true_positive_filter = (predictions == 1) & (loan_data['loan_status'] == 1)\n",
    "true_positive = len(predictions[true_positive_filter])\n",
    "\n",
    "false_negative_filter = (predictions == 0) & (loan_data['loan_status'] == 1)\n",
    "false_negative = len(predictions[false_negative_filter])\n",
    "\n",
    "true_negative_filter = (predictions == 0) & (loan_data['loan_status'] == 0)\n",
    "true_negative = len(predictions[true_negative_filter])\n",
    "\n",
    "true_positive_rate = float(true_positive)/float((true_positive + false_negative))\n",
    "false_positive_rate = float(false_positive)/float((false_positive + true_negative))\n",
    "\n",
    "print float(true_positive_rate) \n",
    "print float(false_positive_rate)"
   ]
  },
  {
   "cell_type": "code",
   "execution_count": null,
   "id": "0bc902c6-83ba-4928-b297-0e841939f947",
   "metadata": {},
   "outputs": [],
   "source": [
    "accuracy = float(true_positive + true_negative)/float(true_positive + false_positive+ false_negative + true_negative)\n",
    "accuracy"
   ]
  },
  {
   "cell_type": "code",
   "execution_count": null,
   "id": "e6e41927-5b7c-424b-9d71-5c7586daf070",
   "metadata": {},
   "outputs": [],
   "source": [
    "precision = float(true_positive)/float(true_positive + false_positive)\n",
    "precision"
   ]
  },
  {
   "cell_type": "code",
   "execution_count": null,
   "id": "46472f7d-ce7d-4b4e-8d77-c4591d5446a9",
   "metadata": {},
   "outputs": [],
   "source": [
    "# Data to plot\n",
    "labels = 'False Positive', 'True Positive'\n",
    "sizes = [1-precision, precision]\n",
    "colors = ['lightcoral', 'lightblue'] \n",
    "# Plot\n",
    "plt.figure(figsize=(4,4))\n",
    "plt.pie(sizes, colors=colors, autopct='%1.2f%%', shadow=False, startangle=0)\n",
    "plt.title('Precision of Random Forest', fontsize=12) \n",
    "plt.legend(labels, loc='lower left', fontsize=10)\n",
    "plt.axis('equal')\n",
    "plt.show()"
   ]
  },
  {
   "cell_type": "markdown",
   "id": "f9bb56d1-b598-4462-b78c-3092c63af756",
   "metadata": {},
   "source": [
    "This is a similar pie as the one we started with. "
   ]
  },
  {
   "cell_type": "markdown",
   "id": "fb16d693-f514-490d-a3f6-7f254f017dcc",
   "metadata": {},
   "source": [
    "## V. Conclusion\n",
    "### Improvement\n",
    "Different classification algorithms such as XGBoost, or even different machine learning architecture such as neural networks could provide better results. In at least one known case, it has be used by a FinTech company such as Underwrite.ai. Deep learning can be another way to discover and push the boundaries of what is possible in predicting the outcome of loans. Along with different algorithms, we could create more features, as the team at Stanford did with the zip code and U.S. census data. We could as well ensemble models (Raschka…) to make better predictions.\n",
    "\n",
    "On a side note, relaxing the strict requirements could help capturing the false negative market and that could lead to better profitability to the bank that finds a way. This is on the business side and not on the machine learning side, but nonetheless, business problems are a driver in the implementation and deployment of machine learning models. Being able to serve this under-served niche would open opportunities to those customers and potentially increase the profit margin as it had been shown by the Grameen Bank. Machine learning can, in many ways, help us discover hidden value in the world. "
   ]
  },
  {
   "cell_type": "code",
   "execution_count": null,
   "id": "e4535a50-a61a-41f3-a8e1-eda567da7c59",
   "metadata": {},
   "outputs": [],
   "source": []
  },
  {
   "cell_type": "code",
   "execution_count": null,
   "id": "95238532-e747-4092-bab4-cdbdf121bae5",
   "metadata": {},
   "outputs": [],
   "source": []
  },
  {
   "cell_type": "code",
   "execution_count": null,
   "id": "a7bf4e6e-6997-406d-93cc-d0cb82dd7c03",
   "metadata": {},
   "outputs": [],
   "source": []
  }
 ],
 "metadata": {
  "kernelspec": {
   "display_name": "Python 3 (ipykernel)",
   "language": "python",
   "name": "python3"
  },
  "language_info": {
   "codemirror_mode": {
    "name": "ipython",
    "version": 3
   },
   "file_extension": ".py",
   "mimetype": "text/x-python",
   "name": "python",
   "nbconvert_exporter": "python",
   "pygments_lexer": "ipython3",
   "version": "3.13.1"
  }
 },
 "nbformat": 4,
 "nbformat_minor": 5
}
